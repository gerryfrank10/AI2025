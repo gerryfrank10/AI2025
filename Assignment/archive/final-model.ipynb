{
 "cells": [
  {
   "metadata": {},
   "cell_type": "markdown",
   "source": [
    "# Network Intrusion Detection Using Artificial Intelligence\n",
    "Intrusion detection Systems (IDS) are crucial for identifying and mitigating potential threats to computer networks. With the increasing complexity of cyber-attacks, traditional rule-based systems are often insufficient. This project aims to leverage machine learning techniques to enhance the detection capabilities of IDS, focusing on the CIC-IDS2017 dataset, which contains a wide range of network traffic data, including benign and malicious activities. By applying various machine learning algorithms, we aim to improve the accuracy and efficiency of intrusion detection systems, ultimately contributing to a more secure digital environment."
   ],
   "id": "c90994bdc450f7bd"
  },
  {
   "cell_type": "code",
   "id": "initial_id",
   "metadata": {
    "collapsed": true,
    "ExecuteTime": {
     "end_time": "2025-05-16T00:53:31.948112Z",
     "start_time": "2025-05-16T00:53:24.478518Z"
    }
   },
   "source": [
    "# Import libraries\n",
    "import numpy as np\n",
    "import pandas as pd\n",
    "import matplotlib.pyplot as plt\n",
    "import seaborn as sns\n",
    "from sklearn.model_selection import train_test_split\n",
    "from sklearn.preprocessing import StandardScaler\n",
    "from sklearn.ensemble import RandomForestClassifier\n",
    "from sklearn.metrics import classification_report, confusion_matrix\n",
    "import torch\n",
    "import torch.nn as nn\n",
    "import torch.optim as optim\n",
    "import torch.nn.functional as F\n",
    "from torch.utils.data import DataLoader, TensorDataset\n",
    "import pathlib\n",
    "from sklearn.preprocessing import LabelEncoder\n"
   ],
   "outputs": [],
   "execution_count": 1
  },
  {
   "metadata": {
    "ExecuteTime": {
     "end_time": "2025-05-15T17:07:37.868050Z",
     "start_time": "2025-05-15T17:07:37.745281Z"
    }
   },
   "cell_type": "code",
   "source": "!ls",
   "id": "3fa0f3b24a5920f2",
   "outputs": [
    {
     "name": "stdout",
     "output_type": "stream",
     "text": [
      "final-model.ipynb\r\n",
      "Friday-WorkingHours-Afternoon-DDos.pcap_ISCX.csv\r\n",
      "Friday-WorkingHours-Afternoon-PortScan.pcap_ISCX.csv\r\n",
      "Friday-WorkingHours-Morning.pcap_ISCX.csv\r\n",
      "Monday-WorkingHours.pcap_ISCX.csv\r\n",
      "Thursday-WorkingHours-Afternoon-Infilteration.pcap_ISCX.csv\r\n",
      "Thursday-WorkingHours-Morning-WebAttacks.pcap_ISCX.csv\r\n",
      "Tuesday-WorkingHours.pcap_ISCX.csv\r\n",
      "Wednesday-workingHours.pcap_ISCX.csv\r\n"
     ]
    }
   ],
   "execution_count": 148
  },
  {
   "metadata": {},
   "cell_type": "markdown",
   "source": [
    "## Data Loading\n",
    "I am loading the dataset from the csv files in the current directory. The dataset is a collection of CSV files that contain network traffic data, including both benign and malicious activities. The goal is to read all the CSV files and concatenate them into a single dataframe for further analysis and modeling."
   ],
   "id": "c228eecec344819d"
  },
  {
   "metadata": {
    "ExecuteTime": {
     "end_time": "2025-05-15T19:47:05.219082Z",
     "start_time": "2025-05-15T19:47:05.214568Z"
    }
   },
   "cell_type": "code",
   "source": [
    "\"\"\"\n",
    "Reading all the csv files and concatenating them into a single dataframe\n",
    "\"\"\"\n",
    "# Read the CSV files\n",
    "csv_files = list(pathlib.Path('.').glob('*.csv'))\n",
    "csv_files.sort(key=lambda x: x.name)\n",
    "csv_files"
   ],
   "id": "370002bc57cae50f",
   "outputs": [
    {
     "data": {
      "text/plain": [
       "[PosixPath('Friday-WorkingHours-Afternoon-DDos.pcap_ISCX.csv'),\n",
       " PosixPath('Friday-WorkingHours-Afternoon-PortScan.pcap_ISCX.csv'),\n",
       " PosixPath('Friday-WorkingHours-Morning.pcap_ISCX.csv'),\n",
       " PosixPath('Monday-WorkingHours.pcap_ISCX.csv'),\n",
       " PosixPath('Thursday-WorkingHours-Afternoon-Infilteration.pcap_ISCX.csv'),\n",
       " PosixPath('Thursday-WorkingHours-Morning-WebAttacks.pcap_ISCX.csv'),\n",
       " PosixPath('Tuesday-WorkingHours.pcap_ISCX.csv'),\n",
       " PosixPath('Wednesday-workingHours.pcap_ISCX.csv')]"
      ]
     },
     "execution_count": 197,
     "metadata": {},
     "output_type": "execute_result"
    }
   ],
   "execution_count": 197
  },
  {
   "metadata": {
    "ExecuteTime": {
     "end_time": "2025-05-15T19:47:14.933146Z",
     "start_time": "2025-05-15T19:47:08.696414Z"
    }
   },
   "cell_type": "code",
   "source": [
    "dataframes = [pd.read_csv(file) for file in csv_files]\n",
    "df = pd.concat(dataframes, ignore_index=True)\n",
    "df.head()"
   ],
   "id": "3154ea5ddc72fdaa",
   "outputs": [
    {
     "data": {
      "text/plain": [
       "    Destination Port   Flow Duration   Total Fwd Packets  \\\n",
       "0              54865               3                   2   \n",
       "1              55054             109                   1   \n",
       "2              55055              52                   1   \n",
       "3              46236              34                   1   \n",
       "4              54863               3                   2   \n",
       "\n",
       "    Total Backward Packets  Total Length of Fwd Packets  \\\n",
       "0                        0                           12   \n",
       "1                        1                            6   \n",
       "2                        1                            6   \n",
       "3                        1                            6   \n",
       "4                        0                           12   \n",
       "\n",
       "    Total Length of Bwd Packets   Fwd Packet Length Max  \\\n",
       "0                             0                       6   \n",
       "1                             6                       6   \n",
       "2                             6                       6   \n",
       "3                             6                       6   \n",
       "4                             0                       6   \n",
       "\n",
       "    Fwd Packet Length Min   Fwd Packet Length Mean   Fwd Packet Length Std  \\\n",
       "0                       6                      6.0                     0.0   \n",
       "1                       6                      6.0                     0.0   \n",
       "2                       6                      6.0                     0.0   \n",
       "3                       6                      6.0                     0.0   \n",
       "4                       6                      6.0                     0.0   \n",
       "\n",
       "   ...   min_seg_size_forward  Active Mean   Active Std   Active Max  \\\n",
       "0  ...                     20          0.0          0.0            0   \n",
       "1  ...                     20          0.0          0.0            0   \n",
       "2  ...                     20          0.0          0.0            0   \n",
       "3  ...                     20          0.0          0.0            0   \n",
       "4  ...                     20          0.0          0.0            0   \n",
       "\n",
       "    Active Min  Idle Mean   Idle Std   Idle Max   Idle Min   Label  \n",
       "0            0        0.0        0.0          0          0  BENIGN  \n",
       "1            0        0.0        0.0          0          0  BENIGN  \n",
       "2            0        0.0        0.0          0          0  BENIGN  \n",
       "3            0        0.0        0.0          0          0  BENIGN  \n",
       "4            0        0.0        0.0          0          0  BENIGN  \n",
       "\n",
       "[5 rows x 79 columns]"
      ],
      "text/html": [
       "<div>\n",
       "<style scoped>\n",
       "    .dataframe tbody tr th:only-of-type {\n",
       "        vertical-align: middle;\n",
       "    }\n",
       "\n",
       "    .dataframe tbody tr th {\n",
       "        vertical-align: top;\n",
       "    }\n",
       "\n",
       "    .dataframe thead th {\n",
       "        text-align: right;\n",
       "    }\n",
       "</style>\n",
       "<table border=\"1\" class=\"dataframe\">\n",
       "  <thead>\n",
       "    <tr style=\"text-align: right;\">\n",
       "      <th></th>\n",
       "      <th>Destination Port</th>\n",
       "      <th>Flow Duration</th>\n",
       "      <th>Total Fwd Packets</th>\n",
       "      <th>Total Backward Packets</th>\n",
       "      <th>Total Length of Fwd Packets</th>\n",
       "      <th>Total Length of Bwd Packets</th>\n",
       "      <th>Fwd Packet Length Max</th>\n",
       "      <th>Fwd Packet Length Min</th>\n",
       "      <th>Fwd Packet Length Mean</th>\n",
       "      <th>Fwd Packet Length Std</th>\n",
       "      <th>...</th>\n",
       "      <th>min_seg_size_forward</th>\n",
       "      <th>Active Mean</th>\n",
       "      <th>Active Std</th>\n",
       "      <th>Active Max</th>\n",
       "      <th>Active Min</th>\n",
       "      <th>Idle Mean</th>\n",
       "      <th>Idle Std</th>\n",
       "      <th>Idle Max</th>\n",
       "      <th>Idle Min</th>\n",
       "      <th>Label</th>\n",
       "    </tr>\n",
       "  </thead>\n",
       "  <tbody>\n",
       "    <tr>\n",
       "      <th>0</th>\n",
       "      <td>54865</td>\n",
       "      <td>3</td>\n",
       "      <td>2</td>\n",
       "      <td>0</td>\n",
       "      <td>12</td>\n",
       "      <td>0</td>\n",
       "      <td>6</td>\n",
       "      <td>6</td>\n",
       "      <td>6.0</td>\n",
       "      <td>0.0</td>\n",
       "      <td>...</td>\n",
       "      <td>20</td>\n",
       "      <td>0.0</td>\n",
       "      <td>0.0</td>\n",
       "      <td>0</td>\n",
       "      <td>0</td>\n",
       "      <td>0.0</td>\n",
       "      <td>0.0</td>\n",
       "      <td>0</td>\n",
       "      <td>0</td>\n",
       "      <td>BENIGN</td>\n",
       "    </tr>\n",
       "    <tr>\n",
       "      <th>1</th>\n",
       "      <td>55054</td>\n",
       "      <td>109</td>\n",
       "      <td>1</td>\n",
       "      <td>1</td>\n",
       "      <td>6</td>\n",
       "      <td>6</td>\n",
       "      <td>6</td>\n",
       "      <td>6</td>\n",
       "      <td>6.0</td>\n",
       "      <td>0.0</td>\n",
       "      <td>...</td>\n",
       "      <td>20</td>\n",
       "      <td>0.0</td>\n",
       "      <td>0.0</td>\n",
       "      <td>0</td>\n",
       "      <td>0</td>\n",
       "      <td>0.0</td>\n",
       "      <td>0.0</td>\n",
       "      <td>0</td>\n",
       "      <td>0</td>\n",
       "      <td>BENIGN</td>\n",
       "    </tr>\n",
       "    <tr>\n",
       "      <th>2</th>\n",
       "      <td>55055</td>\n",
       "      <td>52</td>\n",
       "      <td>1</td>\n",
       "      <td>1</td>\n",
       "      <td>6</td>\n",
       "      <td>6</td>\n",
       "      <td>6</td>\n",
       "      <td>6</td>\n",
       "      <td>6.0</td>\n",
       "      <td>0.0</td>\n",
       "      <td>...</td>\n",
       "      <td>20</td>\n",
       "      <td>0.0</td>\n",
       "      <td>0.0</td>\n",
       "      <td>0</td>\n",
       "      <td>0</td>\n",
       "      <td>0.0</td>\n",
       "      <td>0.0</td>\n",
       "      <td>0</td>\n",
       "      <td>0</td>\n",
       "      <td>BENIGN</td>\n",
       "    </tr>\n",
       "    <tr>\n",
       "      <th>3</th>\n",
       "      <td>46236</td>\n",
       "      <td>34</td>\n",
       "      <td>1</td>\n",
       "      <td>1</td>\n",
       "      <td>6</td>\n",
       "      <td>6</td>\n",
       "      <td>6</td>\n",
       "      <td>6</td>\n",
       "      <td>6.0</td>\n",
       "      <td>0.0</td>\n",
       "      <td>...</td>\n",
       "      <td>20</td>\n",
       "      <td>0.0</td>\n",
       "      <td>0.0</td>\n",
       "      <td>0</td>\n",
       "      <td>0</td>\n",
       "      <td>0.0</td>\n",
       "      <td>0.0</td>\n",
       "      <td>0</td>\n",
       "      <td>0</td>\n",
       "      <td>BENIGN</td>\n",
       "    </tr>\n",
       "    <tr>\n",
       "      <th>4</th>\n",
       "      <td>54863</td>\n",
       "      <td>3</td>\n",
       "      <td>2</td>\n",
       "      <td>0</td>\n",
       "      <td>12</td>\n",
       "      <td>0</td>\n",
       "      <td>6</td>\n",
       "      <td>6</td>\n",
       "      <td>6.0</td>\n",
       "      <td>0.0</td>\n",
       "      <td>...</td>\n",
       "      <td>20</td>\n",
       "      <td>0.0</td>\n",
       "      <td>0.0</td>\n",
       "      <td>0</td>\n",
       "      <td>0</td>\n",
       "      <td>0.0</td>\n",
       "      <td>0.0</td>\n",
       "      <td>0</td>\n",
       "      <td>0</td>\n",
       "      <td>BENIGN</td>\n",
       "    </tr>\n",
       "  </tbody>\n",
       "</table>\n",
       "<p>5 rows × 79 columns</p>\n",
       "</div>"
      ]
     },
     "execution_count": 198,
     "metadata": {},
     "output_type": "execute_result"
    }
   ],
   "execution_count": 198
  },
  {
   "metadata": {},
   "cell_type": "markdown",
   "source": [
    "## Data Preprocessing\n",
    "\n",
    "here i will be checking the data types and null values also i will be checking the unique values\n",
    "and the distribution of the data and removing the infinite values.\n",
    "- Checking the data types\n",
    "- Checking the null values\n",
    "- Checking the unique values\n",
    "- Checking the distribution of the data\n",
    "- Removing the infinite values\n",
    "- Checking the distribution of the data\n",
    "All thse steps are important to understand the data and to prepare it for the model"
   ],
   "id": "6a8a33a3a97e339e"
  },
  {
   "metadata": {
    "ExecuteTime": {
     "end_time": "2025-05-15T17:08:01.523535Z",
     "start_time": "2025-05-15T17:08:01.514502Z"
    }
   },
   "cell_type": "code",
   "source": "df.info()",
   "id": "fbf2388e56d22b3e",
   "outputs": [
    {
     "name": "stdout",
     "output_type": "stream",
     "text": [
      "<class 'pandas.core.frame.DataFrame'>\n",
      "RangeIndex: 2830743 entries, 0 to 2830742\n",
      "Data columns (total 79 columns):\n",
      " #   Column                        Dtype  \n",
      "---  ------                        -----  \n",
      " 0    Destination Port             int64  \n",
      " 1    Flow Duration                int64  \n",
      " 2    Total Fwd Packets            int64  \n",
      " 3    Total Backward Packets       int64  \n",
      " 4   Total Length of Fwd Packets   int64  \n",
      " 5    Total Length of Bwd Packets  int64  \n",
      " 6    Fwd Packet Length Max        int64  \n",
      " 7    Fwd Packet Length Min        int64  \n",
      " 8    Fwd Packet Length Mean       float64\n",
      " 9    Fwd Packet Length Std        float64\n",
      " 10  Bwd Packet Length Max         int64  \n",
      " 11   Bwd Packet Length Min        int64  \n",
      " 12   Bwd Packet Length Mean       float64\n",
      " 13   Bwd Packet Length Std        float64\n",
      " 14  Flow Bytes/s                  float64\n",
      " 15   Flow Packets/s               float64\n",
      " 16   Flow IAT Mean                float64\n",
      " 17   Flow IAT Std                 float64\n",
      " 18   Flow IAT Max                 int64  \n",
      " 19   Flow IAT Min                 int64  \n",
      " 20  Fwd IAT Total                 int64  \n",
      " 21   Fwd IAT Mean                 float64\n",
      " 22   Fwd IAT Std                  float64\n",
      " 23   Fwd IAT Max                  int64  \n",
      " 24   Fwd IAT Min                  int64  \n",
      " 25  Bwd IAT Total                 int64  \n",
      " 26   Bwd IAT Mean                 float64\n",
      " 27   Bwd IAT Std                  float64\n",
      " 28   Bwd IAT Max                  int64  \n",
      " 29   Bwd IAT Min                  int64  \n",
      " 30  Fwd PSH Flags                 int64  \n",
      " 31   Bwd PSH Flags                int64  \n",
      " 32   Fwd URG Flags                int64  \n",
      " 33   Bwd URG Flags                int64  \n",
      " 34   Fwd Header Length            int64  \n",
      " 35   Bwd Header Length            int64  \n",
      " 36  Fwd Packets/s                 float64\n",
      " 37   Bwd Packets/s                float64\n",
      " 38   Min Packet Length            int64  \n",
      " 39   Max Packet Length            int64  \n",
      " 40   Packet Length Mean           float64\n",
      " 41   Packet Length Std            float64\n",
      " 42   Packet Length Variance       float64\n",
      " 43  FIN Flag Count                int64  \n",
      " 44   SYN Flag Count               int64  \n",
      " 45   RST Flag Count               int64  \n",
      " 46   PSH Flag Count               int64  \n",
      " 47   ACK Flag Count               int64  \n",
      " 48   URG Flag Count               int64  \n",
      " 49   CWE Flag Count               int64  \n",
      " 50   ECE Flag Count               int64  \n",
      " 51   Down/Up Ratio                int64  \n",
      " 52   Average Packet Size          float64\n",
      " 53   Avg Fwd Segment Size         float64\n",
      " 54   Avg Bwd Segment Size         float64\n",
      " 55   Fwd Header Length.1          int64  \n",
      " 56  Fwd Avg Bytes/Bulk            int64  \n",
      " 57   Fwd Avg Packets/Bulk         int64  \n",
      " 58   Fwd Avg Bulk Rate            int64  \n",
      " 59   Bwd Avg Bytes/Bulk           int64  \n",
      " 60   Bwd Avg Packets/Bulk         int64  \n",
      " 61  Bwd Avg Bulk Rate             int64  \n",
      " 62  Subflow Fwd Packets           int64  \n",
      " 63   Subflow Fwd Bytes            int64  \n",
      " 64   Subflow Bwd Packets          int64  \n",
      " 65   Subflow Bwd Bytes            int64  \n",
      " 66  Init_Win_bytes_forward        int64  \n",
      " 67   Init_Win_bytes_backward      int64  \n",
      " 68   act_data_pkt_fwd             int64  \n",
      " 69   min_seg_size_forward         int64  \n",
      " 70  Active Mean                   float64\n",
      " 71   Active Std                   float64\n",
      " 72   Active Max                   int64  \n",
      " 73   Active Min                   int64  \n",
      " 74  Idle Mean                     float64\n",
      " 75   Idle Std                     float64\n",
      " 76   Idle Max                     int64  \n",
      " 77   Idle Min                     int64  \n",
      " 78   Label                        object \n",
      "dtypes: float64(24), int64(54), object(1)\n",
      "memory usage: 1.7+ GB\n"
     ]
    }
   ],
   "execution_count": 151
  },
  {
   "metadata": {},
   "cell_type": "markdown",
   "source": "> We have about 78 columns and 2830742 rows  in the dataset which most of them are numbers (Hence and already engineered)",
   "id": "c4c771c093ee13a9"
  },
  {
   "metadata": {
    "ExecuteTime": {
     "end_time": "2025-05-15T17:08:46.308038Z",
     "start_time": "2025-05-15T17:08:42.137381Z"
    }
   },
   "cell_type": "code",
   "source": "df.describe()",
   "id": "848be34878a43c7d",
   "outputs": [
    {
     "data": {
      "text/plain": [
       "        Destination Port   Flow Duration   Total Fwd Packets  \\\n",
       "count       2.830743e+06    2.830743e+06        2.830743e+06   \n",
       "mean        8.071483e+03    1.478566e+07        9.361160e+00   \n",
       "std         1.828363e+04    3.365374e+07        7.496728e+02   \n",
       "min         0.000000e+00   -1.300000e+01        1.000000e+00   \n",
       "25%         5.300000e+01    1.550000e+02        2.000000e+00   \n",
       "50%         8.000000e+01    3.131600e+04        2.000000e+00   \n",
       "75%         4.430000e+02    3.204828e+06        5.000000e+00   \n",
       "max         6.553500e+04    1.200000e+08        2.197590e+05   \n",
       "\n",
       "        Total Backward Packets  Total Length of Fwd Packets  \\\n",
       "count             2.830743e+06                 2.830743e+06   \n",
       "mean              1.039377e+01                 5.493024e+02   \n",
       "std               9.973883e+02                 9.993589e+03   \n",
       "min               0.000000e+00                 0.000000e+00   \n",
       "25%               1.000000e+00                 1.200000e+01   \n",
       "50%               2.000000e+00                 6.200000e+01   \n",
       "75%               4.000000e+00                 1.870000e+02   \n",
       "max               2.919220e+05                 1.290000e+07   \n",
       "\n",
       "        Total Length of Bwd Packets   Fwd Packet Length Max  \\\n",
       "count                  2.830743e+06            2.830743e+06   \n",
       "mean                   1.616264e+04            2.075999e+02   \n",
       "std                    2.263088e+06            7.171848e+02   \n",
       "min                    0.000000e+00            0.000000e+00   \n",
       "25%                    0.000000e+00            6.000000e+00   \n",
       "50%                    1.230000e+02            3.700000e+01   \n",
       "75%                    4.820000e+02            8.100000e+01   \n",
       "max                    6.554530e+08            2.482000e+04   \n",
       "\n",
       "        Fwd Packet Length Min   Fwd Packet Length Mean  \\\n",
       "count            2.830743e+06             2.830743e+06   \n",
       "mean             1.871366e+01             5.820194e+01   \n",
       "std              6.033935e+01             1.860912e+02   \n",
       "min              0.000000e+00             0.000000e+00   \n",
       "25%              0.000000e+00             6.000000e+00   \n",
       "50%              2.000000e+00             3.400000e+01   \n",
       "75%              3.600000e+01             5.000000e+01   \n",
       "max              2.325000e+03             5.940857e+03   \n",
       "\n",
       "        Fwd Packet Length Std  ...   act_data_pkt_fwd   min_seg_size_forward  \\\n",
       "count            2.830743e+06  ...       2.830743e+06           2.830743e+06   \n",
       "mean             6.891013e+01  ...       5.418218e+00          -2.741688e+03   \n",
       "std              2.811871e+02  ...       6.364257e+02           1.084989e+06   \n",
       "min              0.000000e+00  ...       0.000000e+00          -5.368707e+08   \n",
       "25%              0.000000e+00  ...       0.000000e+00           2.000000e+01   \n",
       "50%              0.000000e+00  ...       1.000000e+00           2.400000e+01   \n",
       "75%              2.616295e+01  ...       2.000000e+00           3.200000e+01   \n",
       "max              7.125597e+03  ...       2.135570e+05           1.380000e+02   \n",
       "\n",
       "        Active Mean    Active Std    Active Max    Active Min     Idle Mean  \\\n",
       "count  2.830743e+06  2.830743e+06  2.830743e+06  2.830743e+06  2.830743e+06   \n",
       "mean   8.155132e+04  4.113412e+04  1.531825e+05  5.829582e+04  8.316037e+06   \n",
       "std    6.485999e+05  3.933815e+05  1.025825e+06  5.770923e+05  2.363008e+07   \n",
       "min    0.000000e+00  0.000000e+00  0.000000e+00  0.000000e+00  0.000000e+00   \n",
       "25%    0.000000e+00  0.000000e+00  0.000000e+00  0.000000e+00  0.000000e+00   \n",
       "50%    0.000000e+00  0.000000e+00  0.000000e+00  0.000000e+00  0.000000e+00   \n",
       "75%    0.000000e+00  0.000000e+00  0.000000e+00  0.000000e+00  0.000000e+00   \n",
       "max    1.100000e+08  7.420000e+07  1.100000e+08  1.100000e+08  1.200000e+08   \n",
       "\n",
       "           Idle Std      Idle Max      Idle Min  \n",
       "count  2.830743e+06  2.830743e+06  2.830743e+06  \n",
       "mean   5.038439e+05  8.695752e+06  7.920031e+06  \n",
       "std    4.602984e+06  2.436689e+07  2.336342e+07  \n",
       "min    0.000000e+00  0.000000e+00  0.000000e+00  \n",
       "25%    0.000000e+00  0.000000e+00  0.000000e+00  \n",
       "50%    0.000000e+00  0.000000e+00  0.000000e+00  \n",
       "75%    0.000000e+00  0.000000e+00  0.000000e+00  \n",
       "max    7.690000e+07  1.200000e+08  1.200000e+08  \n",
       "\n",
       "[8 rows x 78 columns]"
      ],
      "text/html": [
       "<div>\n",
       "<style scoped>\n",
       "    .dataframe tbody tr th:only-of-type {\n",
       "        vertical-align: middle;\n",
       "    }\n",
       "\n",
       "    .dataframe tbody tr th {\n",
       "        vertical-align: top;\n",
       "    }\n",
       "\n",
       "    .dataframe thead th {\n",
       "        text-align: right;\n",
       "    }\n",
       "</style>\n",
       "<table border=\"1\" class=\"dataframe\">\n",
       "  <thead>\n",
       "    <tr style=\"text-align: right;\">\n",
       "      <th></th>\n",
       "      <th>Destination Port</th>\n",
       "      <th>Flow Duration</th>\n",
       "      <th>Total Fwd Packets</th>\n",
       "      <th>Total Backward Packets</th>\n",
       "      <th>Total Length of Fwd Packets</th>\n",
       "      <th>Total Length of Bwd Packets</th>\n",
       "      <th>Fwd Packet Length Max</th>\n",
       "      <th>Fwd Packet Length Min</th>\n",
       "      <th>Fwd Packet Length Mean</th>\n",
       "      <th>Fwd Packet Length Std</th>\n",
       "      <th>...</th>\n",
       "      <th>act_data_pkt_fwd</th>\n",
       "      <th>min_seg_size_forward</th>\n",
       "      <th>Active Mean</th>\n",
       "      <th>Active Std</th>\n",
       "      <th>Active Max</th>\n",
       "      <th>Active Min</th>\n",
       "      <th>Idle Mean</th>\n",
       "      <th>Idle Std</th>\n",
       "      <th>Idle Max</th>\n",
       "      <th>Idle Min</th>\n",
       "    </tr>\n",
       "  </thead>\n",
       "  <tbody>\n",
       "    <tr>\n",
       "      <th>count</th>\n",
       "      <td>2.830743e+06</td>\n",
       "      <td>2.830743e+06</td>\n",
       "      <td>2.830743e+06</td>\n",
       "      <td>2.830743e+06</td>\n",
       "      <td>2.830743e+06</td>\n",
       "      <td>2.830743e+06</td>\n",
       "      <td>2.830743e+06</td>\n",
       "      <td>2.830743e+06</td>\n",
       "      <td>2.830743e+06</td>\n",
       "      <td>2.830743e+06</td>\n",
       "      <td>...</td>\n",
       "      <td>2.830743e+06</td>\n",
       "      <td>2.830743e+06</td>\n",
       "      <td>2.830743e+06</td>\n",
       "      <td>2.830743e+06</td>\n",
       "      <td>2.830743e+06</td>\n",
       "      <td>2.830743e+06</td>\n",
       "      <td>2.830743e+06</td>\n",
       "      <td>2.830743e+06</td>\n",
       "      <td>2.830743e+06</td>\n",
       "      <td>2.830743e+06</td>\n",
       "    </tr>\n",
       "    <tr>\n",
       "      <th>mean</th>\n",
       "      <td>8.071483e+03</td>\n",
       "      <td>1.478566e+07</td>\n",
       "      <td>9.361160e+00</td>\n",
       "      <td>1.039377e+01</td>\n",
       "      <td>5.493024e+02</td>\n",
       "      <td>1.616264e+04</td>\n",
       "      <td>2.075999e+02</td>\n",
       "      <td>1.871366e+01</td>\n",
       "      <td>5.820194e+01</td>\n",
       "      <td>6.891013e+01</td>\n",
       "      <td>...</td>\n",
       "      <td>5.418218e+00</td>\n",
       "      <td>-2.741688e+03</td>\n",
       "      <td>8.155132e+04</td>\n",
       "      <td>4.113412e+04</td>\n",
       "      <td>1.531825e+05</td>\n",
       "      <td>5.829582e+04</td>\n",
       "      <td>8.316037e+06</td>\n",
       "      <td>5.038439e+05</td>\n",
       "      <td>8.695752e+06</td>\n",
       "      <td>7.920031e+06</td>\n",
       "    </tr>\n",
       "    <tr>\n",
       "      <th>std</th>\n",
       "      <td>1.828363e+04</td>\n",
       "      <td>3.365374e+07</td>\n",
       "      <td>7.496728e+02</td>\n",
       "      <td>9.973883e+02</td>\n",
       "      <td>9.993589e+03</td>\n",
       "      <td>2.263088e+06</td>\n",
       "      <td>7.171848e+02</td>\n",
       "      <td>6.033935e+01</td>\n",
       "      <td>1.860912e+02</td>\n",
       "      <td>2.811871e+02</td>\n",
       "      <td>...</td>\n",
       "      <td>6.364257e+02</td>\n",
       "      <td>1.084989e+06</td>\n",
       "      <td>6.485999e+05</td>\n",
       "      <td>3.933815e+05</td>\n",
       "      <td>1.025825e+06</td>\n",
       "      <td>5.770923e+05</td>\n",
       "      <td>2.363008e+07</td>\n",
       "      <td>4.602984e+06</td>\n",
       "      <td>2.436689e+07</td>\n",
       "      <td>2.336342e+07</td>\n",
       "    </tr>\n",
       "    <tr>\n",
       "      <th>min</th>\n",
       "      <td>0.000000e+00</td>\n",
       "      <td>-1.300000e+01</td>\n",
       "      <td>1.000000e+00</td>\n",
       "      <td>0.000000e+00</td>\n",
       "      <td>0.000000e+00</td>\n",
       "      <td>0.000000e+00</td>\n",
       "      <td>0.000000e+00</td>\n",
       "      <td>0.000000e+00</td>\n",
       "      <td>0.000000e+00</td>\n",
       "      <td>0.000000e+00</td>\n",
       "      <td>...</td>\n",
       "      <td>0.000000e+00</td>\n",
       "      <td>-5.368707e+08</td>\n",
       "      <td>0.000000e+00</td>\n",
       "      <td>0.000000e+00</td>\n",
       "      <td>0.000000e+00</td>\n",
       "      <td>0.000000e+00</td>\n",
       "      <td>0.000000e+00</td>\n",
       "      <td>0.000000e+00</td>\n",
       "      <td>0.000000e+00</td>\n",
       "      <td>0.000000e+00</td>\n",
       "    </tr>\n",
       "    <tr>\n",
       "      <th>25%</th>\n",
       "      <td>5.300000e+01</td>\n",
       "      <td>1.550000e+02</td>\n",
       "      <td>2.000000e+00</td>\n",
       "      <td>1.000000e+00</td>\n",
       "      <td>1.200000e+01</td>\n",
       "      <td>0.000000e+00</td>\n",
       "      <td>6.000000e+00</td>\n",
       "      <td>0.000000e+00</td>\n",
       "      <td>6.000000e+00</td>\n",
       "      <td>0.000000e+00</td>\n",
       "      <td>...</td>\n",
       "      <td>0.000000e+00</td>\n",
       "      <td>2.000000e+01</td>\n",
       "      <td>0.000000e+00</td>\n",
       "      <td>0.000000e+00</td>\n",
       "      <td>0.000000e+00</td>\n",
       "      <td>0.000000e+00</td>\n",
       "      <td>0.000000e+00</td>\n",
       "      <td>0.000000e+00</td>\n",
       "      <td>0.000000e+00</td>\n",
       "      <td>0.000000e+00</td>\n",
       "    </tr>\n",
       "    <tr>\n",
       "      <th>50%</th>\n",
       "      <td>8.000000e+01</td>\n",
       "      <td>3.131600e+04</td>\n",
       "      <td>2.000000e+00</td>\n",
       "      <td>2.000000e+00</td>\n",
       "      <td>6.200000e+01</td>\n",
       "      <td>1.230000e+02</td>\n",
       "      <td>3.700000e+01</td>\n",
       "      <td>2.000000e+00</td>\n",
       "      <td>3.400000e+01</td>\n",
       "      <td>0.000000e+00</td>\n",
       "      <td>...</td>\n",
       "      <td>1.000000e+00</td>\n",
       "      <td>2.400000e+01</td>\n",
       "      <td>0.000000e+00</td>\n",
       "      <td>0.000000e+00</td>\n",
       "      <td>0.000000e+00</td>\n",
       "      <td>0.000000e+00</td>\n",
       "      <td>0.000000e+00</td>\n",
       "      <td>0.000000e+00</td>\n",
       "      <td>0.000000e+00</td>\n",
       "      <td>0.000000e+00</td>\n",
       "    </tr>\n",
       "    <tr>\n",
       "      <th>75%</th>\n",
       "      <td>4.430000e+02</td>\n",
       "      <td>3.204828e+06</td>\n",
       "      <td>5.000000e+00</td>\n",
       "      <td>4.000000e+00</td>\n",
       "      <td>1.870000e+02</td>\n",
       "      <td>4.820000e+02</td>\n",
       "      <td>8.100000e+01</td>\n",
       "      <td>3.600000e+01</td>\n",
       "      <td>5.000000e+01</td>\n",
       "      <td>2.616295e+01</td>\n",
       "      <td>...</td>\n",
       "      <td>2.000000e+00</td>\n",
       "      <td>3.200000e+01</td>\n",
       "      <td>0.000000e+00</td>\n",
       "      <td>0.000000e+00</td>\n",
       "      <td>0.000000e+00</td>\n",
       "      <td>0.000000e+00</td>\n",
       "      <td>0.000000e+00</td>\n",
       "      <td>0.000000e+00</td>\n",
       "      <td>0.000000e+00</td>\n",
       "      <td>0.000000e+00</td>\n",
       "    </tr>\n",
       "    <tr>\n",
       "      <th>max</th>\n",
       "      <td>6.553500e+04</td>\n",
       "      <td>1.200000e+08</td>\n",
       "      <td>2.197590e+05</td>\n",
       "      <td>2.919220e+05</td>\n",
       "      <td>1.290000e+07</td>\n",
       "      <td>6.554530e+08</td>\n",
       "      <td>2.482000e+04</td>\n",
       "      <td>2.325000e+03</td>\n",
       "      <td>5.940857e+03</td>\n",
       "      <td>7.125597e+03</td>\n",
       "      <td>...</td>\n",
       "      <td>2.135570e+05</td>\n",
       "      <td>1.380000e+02</td>\n",
       "      <td>1.100000e+08</td>\n",
       "      <td>7.420000e+07</td>\n",
       "      <td>1.100000e+08</td>\n",
       "      <td>1.100000e+08</td>\n",
       "      <td>1.200000e+08</td>\n",
       "      <td>7.690000e+07</td>\n",
       "      <td>1.200000e+08</td>\n",
       "      <td>1.200000e+08</td>\n",
       "    </tr>\n",
       "  </tbody>\n",
       "</table>\n",
       "<p>8 rows × 78 columns</p>\n",
       "</div>"
      ]
     },
     "execution_count": 152,
     "metadata": {},
     "output_type": "execute_result"
    }
   ],
   "execution_count": 152
  },
  {
   "metadata": {},
   "cell_type": "markdown",
   "source": "> Looking at column statistics we can see that most of the columns are numerical and some of them are categorical",
   "id": "e12e8f912db425b8"
  },
  {
   "metadata": {
    "ExecuteTime": {
     "end_time": "2025-05-15T19:47:32.561472Z",
     "start_time": "2025-05-15T19:47:31.862327Z"
    }
   },
   "cell_type": "code",
   "source": [
    "df['Label'] = df[' Label']\n",
    "df.drop([' Label'], axis=1, inplace=True)\n",
    "df.head()"
   ],
   "id": "52da7317953435e0",
   "outputs": [
    {
     "data": {
      "text/plain": [
       "    Destination Port   Flow Duration   Total Fwd Packets  \\\n",
       "0              54865               3                   2   \n",
       "1              55054             109                   1   \n",
       "2              55055              52                   1   \n",
       "3              46236              34                   1   \n",
       "4              54863               3                   2   \n",
       "\n",
       "    Total Backward Packets  Total Length of Fwd Packets  \\\n",
       "0                        0                           12   \n",
       "1                        1                            6   \n",
       "2                        1                            6   \n",
       "3                        1                            6   \n",
       "4                        0                           12   \n",
       "\n",
       "    Total Length of Bwd Packets   Fwd Packet Length Max  \\\n",
       "0                             0                       6   \n",
       "1                             6                       6   \n",
       "2                             6                       6   \n",
       "3                             6                       6   \n",
       "4                             0                       6   \n",
       "\n",
       "    Fwd Packet Length Min   Fwd Packet Length Mean   Fwd Packet Length Std  \\\n",
       "0                       6                      6.0                     0.0   \n",
       "1                       6                      6.0                     0.0   \n",
       "2                       6                      6.0                     0.0   \n",
       "3                       6                      6.0                     0.0   \n",
       "4                       6                      6.0                     0.0   \n",
       "\n",
       "   ...   min_seg_size_forward  Active Mean   Active Std   Active Max  \\\n",
       "0  ...                     20          0.0          0.0            0   \n",
       "1  ...                     20          0.0          0.0            0   \n",
       "2  ...                     20          0.0          0.0            0   \n",
       "3  ...                     20          0.0          0.0            0   \n",
       "4  ...                     20          0.0          0.0            0   \n",
       "\n",
       "    Active Min  Idle Mean   Idle Std   Idle Max   Idle Min   Label  \n",
       "0            0        0.0        0.0          0          0  BENIGN  \n",
       "1            0        0.0        0.0          0          0  BENIGN  \n",
       "2            0        0.0        0.0          0          0  BENIGN  \n",
       "3            0        0.0        0.0          0          0  BENIGN  \n",
       "4            0        0.0        0.0          0          0  BENIGN  \n",
       "\n",
       "[5 rows x 79 columns]"
      ],
      "text/html": [
       "<div>\n",
       "<style scoped>\n",
       "    .dataframe tbody tr th:only-of-type {\n",
       "        vertical-align: middle;\n",
       "    }\n",
       "\n",
       "    .dataframe tbody tr th {\n",
       "        vertical-align: top;\n",
       "    }\n",
       "\n",
       "    .dataframe thead th {\n",
       "        text-align: right;\n",
       "    }\n",
       "</style>\n",
       "<table border=\"1\" class=\"dataframe\">\n",
       "  <thead>\n",
       "    <tr style=\"text-align: right;\">\n",
       "      <th></th>\n",
       "      <th>Destination Port</th>\n",
       "      <th>Flow Duration</th>\n",
       "      <th>Total Fwd Packets</th>\n",
       "      <th>Total Backward Packets</th>\n",
       "      <th>Total Length of Fwd Packets</th>\n",
       "      <th>Total Length of Bwd Packets</th>\n",
       "      <th>Fwd Packet Length Max</th>\n",
       "      <th>Fwd Packet Length Min</th>\n",
       "      <th>Fwd Packet Length Mean</th>\n",
       "      <th>Fwd Packet Length Std</th>\n",
       "      <th>...</th>\n",
       "      <th>min_seg_size_forward</th>\n",
       "      <th>Active Mean</th>\n",
       "      <th>Active Std</th>\n",
       "      <th>Active Max</th>\n",
       "      <th>Active Min</th>\n",
       "      <th>Idle Mean</th>\n",
       "      <th>Idle Std</th>\n",
       "      <th>Idle Max</th>\n",
       "      <th>Idle Min</th>\n",
       "      <th>Label</th>\n",
       "    </tr>\n",
       "  </thead>\n",
       "  <tbody>\n",
       "    <tr>\n",
       "      <th>0</th>\n",
       "      <td>54865</td>\n",
       "      <td>3</td>\n",
       "      <td>2</td>\n",
       "      <td>0</td>\n",
       "      <td>12</td>\n",
       "      <td>0</td>\n",
       "      <td>6</td>\n",
       "      <td>6</td>\n",
       "      <td>6.0</td>\n",
       "      <td>0.0</td>\n",
       "      <td>...</td>\n",
       "      <td>20</td>\n",
       "      <td>0.0</td>\n",
       "      <td>0.0</td>\n",
       "      <td>0</td>\n",
       "      <td>0</td>\n",
       "      <td>0.0</td>\n",
       "      <td>0.0</td>\n",
       "      <td>0</td>\n",
       "      <td>0</td>\n",
       "      <td>BENIGN</td>\n",
       "    </tr>\n",
       "    <tr>\n",
       "      <th>1</th>\n",
       "      <td>55054</td>\n",
       "      <td>109</td>\n",
       "      <td>1</td>\n",
       "      <td>1</td>\n",
       "      <td>6</td>\n",
       "      <td>6</td>\n",
       "      <td>6</td>\n",
       "      <td>6</td>\n",
       "      <td>6.0</td>\n",
       "      <td>0.0</td>\n",
       "      <td>...</td>\n",
       "      <td>20</td>\n",
       "      <td>0.0</td>\n",
       "      <td>0.0</td>\n",
       "      <td>0</td>\n",
       "      <td>0</td>\n",
       "      <td>0.0</td>\n",
       "      <td>0.0</td>\n",
       "      <td>0</td>\n",
       "      <td>0</td>\n",
       "      <td>BENIGN</td>\n",
       "    </tr>\n",
       "    <tr>\n",
       "      <th>2</th>\n",
       "      <td>55055</td>\n",
       "      <td>52</td>\n",
       "      <td>1</td>\n",
       "      <td>1</td>\n",
       "      <td>6</td>\n",
       "      <td>6</td>\n",
       "      <td>6</td>\n",
       "      <td>6</td>\n",
       "      <td>6.0</td>\n",
       "      <td>0.0</td>\n",
       "      <td>...</td>\n",
       "      <td>20</td>\n",
       "      <td>0.0</td>\n",
       "      <td>0.0</td>\n",
       "      <td>0</td>\n",
       "      <td>0</td>\n",
       "      <td>0.0</td>\n",
       "      <td>0.0</td>\n",
       "      <td>0</td>\n",
       "      <td>0</td>\n",
       "      <td>BENIGN</td>\n",
       "    </tr>\n",
       "    <tr>\n",
       "      <th>3</th>\n",
       "      <td>46236</td>\n",
       "      <td>34</td>\n",
       "      <td>1</td>\n",
       "      <td>1</td>\n",
       "      <td>6</td>\n",
       "      <td>6</td>\n",
       "      <td>6</td>\n",
       "      <td>6</td>\n",
       "      <td>6.0</td>\n",
       "      <td>0.0</td>\n",
       "      <td>...</td>\n",
       "      <td>20</td>\n",
       "      <td>0.0</td>\n",
       "      <td>0.0</td>\n",
       "      <td>0</td>\n",
       "      <td>0</td>\n",
       "      <td>0.0</td>\n",
       "      <td>0.0</td>\n",
       "      <td>0</td>\n",
       "      <td>0</td>\n",
       "      <td>BENIGN</td>\n",
       "    </tr>\n",
       "    <tr>\n",
       "      <th>4</th>\n",
       "      <td>54863</td>\n",
       "      <td>3</td>\n",
       "      <td>2</td>\n",
       "      <td>0</td>\n",
       "      <td>12</td>\n",
       "      <td>0</td>\n",
       "      <td>6</td>\n",
       "      <td>6</td>\n",
       "      <td>6.0</td>\n",
       "      <td>0.0</td>\n",
       "      <td>...</td>\n",
       "      <td>20</td>\n",
       "      <td>0.0</td>\n",
       "      <td>0.0</td>\n",
       "      <td>0</td>\n",
       "      <td>0</td>\n",
       "      <td>0.0</td>\n",
       "      <td>0.0</td>\n",
       "      <td>0</td>\n",
       "      <td>0</td>\n",
       "      <td>BENIGN</td>\n",
       "    </tr>\n",
       "  </tbody>\n",
       "</table>\n",
       "<p>5 rows × 79 columns</p>\n",
       "</div>"
      ]
     },
     "execution_count": 200,
     "metadata": {},
     "output_type": "execute_result"
    }
   ],
   "execution_count": 200
  },
  {
   "metadata": {},
   "cell_type": "markdown",
   "source": "> The Label column is the only categorical column in the dataset",
   "id": "878e67f9ab69fd32"
  },
  {
   "metadata": {
    "ExecuteTime": {
     "end_time": "2025-05-15T19:47:34.131610Z",
     "start_time": "2025-05-15T19:47:34.064889Z"
    }
   },
   "cell_type": "code",
   "source": "df['Label'].unique()",
   "id": "b78252187aa034f2",
   "outputs": [
    {
     "data": {
      "text/plain": [
       "array(['BENIGN', 'DDoS', 'PortScan', 'Bot', 'Infiltration',\n",
       "       'Web Attack � Brute Force', 'Web Attack � XSS',\n",
       "       'Web Attack � Sql Injection', 'FTP-Patator', 'SSH-Patator',\n",
       "       'DoS slowloris', 'DoS Slowhttptest', 'DoS Hulk', 'DoS GoldenEye',\n",
       "       'Heartbleed'], dtype=object)"
      ]
     },
     "execution_count": 201,
     "metadata": {},
     "output_type": "execute_result"
    }
   ],
   "execution_count": 201
  },
  {
   "metadata": {},
   "cell_type": "markdown",
   "source": "> The Label column has 17 unique values which are the labels we are going to predict",
   "id": "114da1aea2f5ec3f"
  },
  {
   "metadata": {
    "ExecuteTime": {
     "end_time": "2025-05-15T17:09:19.279606Z",
     "start_time": "2025-05-15T17:09:19.204010Z"
    }
   },
   "cell_type": "code",
   "source": "df['Label'].value_counts()",
   "id": "16b1d8ee77191552",
   "outputs": [
    {
     "data": {
      "text/plain": [
       "Label\n",
       "BENIGN                        2273097\n",
       "DoS Hulk                       231073\n",
       "PortScan                       158930\n",
       "DDoS                           128027\n",
       "DoS GoldenEye                   10293\n",
       "FTP-Patator                      7938\n",
       "SSH-Patator                      5897\n",
       "DoS slowloris                    5796\n",
       "DoS Slowhttptest                 5499\n",
       "Bot                              1966\n",
       "Web Attack � Brute Force         1507\n",
       "Web Attack � XSS                  652\n",
       "Infiltration                       36\n",
       "Web Attack � Sql Injection         21\n",
       "Heartbleed                         11\n",
       "Name: count, dtype: int64"
      ]
     },
     "execution_count": 156,
     "metadata": {},
     "output_type": "execute_result"
    }
   ],
   "execution_count": 156
  },
  {
   "metadata": {
    "ExecuteTime": {
     "end_time": "2025-05-15T19:51:45.737250Z",
     "start_time": "2025-05-15T19:51:43.801312Z"
    }
   },
   "cell_type": "code",
   "source": [
    "plt.figure(figsize=(10, 5))\n",
    "# plt.hist(df['Label'].value_counts())\n",
    "sns.countplot(x='Label', data=df)\n",
    "plt.title('Label Distribution Log Scale')\n",
    "plt.yscale('log')\n",
    "plt.xlabel('Labels')\n",
    "plt.ylabel('Count')\n",
    "plt.xticks(rotation=45)\n",
    "plt.show()"
   ],
   "id": "d68c3ac66763170b",
   "outputs": [
    {
     "name": "stderr",
     "output_type": "stream",
     "text": [
      "/opt/anaconda3/envs/AI2025-2/lib/python3.13/site-packages/IPython/core/pylabtools.py:170: UserWarning: Glyph 65533 (\\N{REPLACEMENT CHARACTER}) missing from font(s) Arial.\n",
      "  fig.canvas.print_figure(bytes_io, **kw)\n"
     ]
    },
    {
     "data": {
      "text/plain": [
       "<Figure size 1000x500 with 1 Axes>"
      ],
      "image/png": "[encoded data removed]"
     },
     "metadata": {},
     "output_type": "display_data"
    }
   ],
   "execution_count": 207
  },
  {
   "metadata": {},
   "cell_type": "markdown",
   "source": "> The above plot shows the distribution of the labels in the dataset",
   "id": "57fe29380d6e7a14"
  },
  {
   "metadata": {
    "ExecuteTime": {
     "end_time": "2025-05-15T17:09:49.299155Z",
     "start_time": "2025-05-15T17:09:47.637976Z"
    }
   },
   "cell_type": "code",
   "source": [
    "df = df.dropna(subset=['Label']) # Drop columns with all NaN values\n",
    "df['Label'].unique()"
   ],
   "id": "a56ca6dbc0ecfc32",
   "outputs": [
    {
     "data": {
      "text/plain": [
       "array(['BENIGN', 'DDoS', 'PortScan', 'Bot', 'Infiltration',\n",
       "       'Web Attack � Brute Force', 'Web Attack � XSS',\n",
       "       'Web Attack � Sql Injection', 'FTP-Patator', 'SSH-Patator',\n",
       "       'DoS slowloris', 'DoS Slowhttptest', 'DoS Hulk', 'DoS GoldenEye',\n",
       "       'Heartbleed'], dtype=object)"
      ]
     },
     "execution_count": 157,
     "metadata": {},
     "output_type": "execute_result"
    }
   ],
   "execution_count": 157
  },
  {
   "metadata": {},
   "cell_type": "markdown",
   "source": "### Encoding the label column",
   "id": "ae27db1d9d1dbf2c"
  },
  {
   "metadata": {
    "ExecuteTime": {
     "end_time": "2025-05-15T17:09:55.110267Z",
     "start_time": "2025-05-15T17:09:54.962608Z"
    }
   },
   "cell_type": "code",
   "source": [
    "# Encoding the label column\n",
    "from sklearn.preprocessing import LabelEncoder\n",
    "le = LabelEncoder()\n",
    "df['Label'] = le.fit_transform(df['Label'])\n",
    "df.head()"
   ],
   "id": "ad09c2eb0510e39d",
   "outputs": [
    {
     "data": {
      "text/plain": [
       "    Destination Port   Flow Duration   Total Fwd Packets  \\\n",
       "0              54865               3                   2   \n",
       "1              55054             109                   1   \n",
       "2              55055              52                   1   \n",
       "3              46236              34                   1   \n",
       "4              54863               3                   2   \n",
       "\n",
       "    Total Backward Packets  Total Length of Fwd Packets  \\\n",
       "0                        0                           12   \n",
       "1                        1                            6   \n",
       "2                        1                            6   \n",
       "3                        1                            6   \n",
       "4                        0                           12   \n",
       "\n",
       "    Total Length of Bwd Packets   Fwd Packet Length Max  \\\n",
       "0                             0                       6   \n",
       "1                             6                       6   \n",
       "2                             6                       6   \n",
       "3                             6                       6   \n",
       "4                             0                       6   \n",
       "\n",
       "    Fwd Packet Length Min   Fwd Packet Length Mean   Fwd Packet Length Std  \\\n",
       "0                       6                      6.0                     0.0   \n",
       "1                       6                      6.0                     0.0   \n",
       "2                       6                      6.0                     0.0   \n",
       "3                       6                      6.0                     0.0   \n",
       "4                       6                      6.0                     0.0   \n",
       "\n",
       "   ...   min_seg_size_forward  Active Mean   Active Std   Active Max  \\\n",
       "0  ...                     20          0.0          0.0            0   \n",
       "1  ...                     20          0.0          0.0            0   \n",
       "2  ...                     20          0.0          0.0            0   \n",
       "3  ...                     20          0.0          0.0            0   \n",
       "4  ...                     20          0.0          0.0            0   \n",
       "\n",
       "    Active Min  Idle Mean   Idle Std   Idle Max   Idle Min  Label  \n",
       "0            0        0.0        0.0          0          0      0  \n",
       "1            0        0.0        0.0          0          0      0  \n",
       "2            0        0.0        0.0          0          0      0  \n",
       "3            0        0.0        0.0          0          0      0  \n",
       "4            0        0.0        0.0          0          0      0  \n",
       "\n",
       "[5 rows x 79 columns]"
      ],
      "text/html": [
       "<div>\n",
       "<style scoped>\n",
       "    .dataframe tbody tr th:only-of-type {\n",
       "        vertical-align: middle;\n",
       "    }\n",
       "\n",
       "    .dataframe tbody tr th {\n",
       "        vertical-align: top;\n",
       "    }\n",
       "\n",
       "    .dataframe thead th {\n",
       "        text-align: right;\n",
       "    }\n",
       "</style>\n",
       "<table border=\"1\" class=\"dataframe\">\n",
       "  <thead>\n",
       "    <tr style=\"text-align: right;\">\n",
       "      <th></th>\n",
       "      <th>Destination Port</th>\n",
       "      <th>Flow Duration</th>\n",
       "      <th>Total Fwd Packets</th>\n",
       "      <th>Total Backward Packets</th>\n",
       "      <th>Total Length of Fwd Packets</th>\n",
       "      <th>Total Length of Bwd Packets</th>\n",
       "      <th>Fwd Packet Length Max</th>\n",
       "      <th>Fwd Packet Length Min</th>\n",
       "      <th>Fwd Packet Length Mean</th>\n",
       "      <th>Fwd Packet Length Std</th>\n",
       "      <th>...</th>\n",
       "      <th>min_seg_size_forward</th>\n",
       "      <th>Active Mean</th>\n",
       "      <th>Active Std</th>\n",
       "      <th>Active Max</th>\n",
       "      <th>Active Min</th>\n",
       "      <th>Idle Mean</th>\n",
       "      <th>Idle Std</th>\n",
       "      <th>Idle Max</th>\n",
       "      <th>Idle Min</th>\n",
       "      <th>Label</th>\n",
       "    </tr>\n",
       "  </thead>\n",
       "  <tbody>\n",
       "    <tr>\n",
       "      <th>0</th>\n",
       "      <td>54865</td>\n",
       "      <td>3</td>\n",
       "      <td>2</td>\n",
       "      <td>0</td>\n",
       "      <td>12</td>\n",
       "      <td>0</td>\n",
       "      <td>6</td>\n",
       "      <td>6</td>\n",
       "      <td>6.0</td>\n",
       "      <td>0.0</td>\n",
       "      <td>...</td>\n",
       "      <td>20</td>\n",
       "      <td>0.0</td>\n",
       "      <td>0.0</td>\n",
       "      <td>0</td>\n",
       "      <td>0</td>\n",
       "      <td>0.0</td>\n",
       "      <td>0.0</td>\n",
       "      <td>0</td>\n",
       "      <td>0</td>\n",
       "      <td>0</td>\n",
       "    </tr>\n",
       "    <tr>\n",
       "      <th>1</th>\n",
       "      <td>55054</td>\n",
       "      <td>109</td>\n",
       "      <td>1</td>\n",
       "      <td>1</td>\n",
       "      <td>6</td>\n",
       "      <td>6</td>\n",
       "      <td>6</td>\n",
       "      <td>6</td>\n",
       "      <td>6.0</td>\n",
       "      <td>0.0</td>\n",
       "      <td>...</td>\n",
       "      <td>20</td>\n",
       "      <td>0.0</td>\n",
       "      <td>0.0</td>\n",
       "      <td>0</td>\n",
       "      <td>0</td>\n",
       "      <td>0.0</td>\n",
       "      <td>0.0</td>\n",
       "      <td>0</td>\n",
       "      <td>0</td>\n",
       "      <td>0</td>\n",
       "    </tr>\n",
       "    <tr>\n",
       "      <th>2</th>\n",
       "      <td>55055</td>\n",
       "      <td>52</td>\n",
       "      <td>1</td>\n",
       "      <td>1</td>\n",
       "      <td>6</td>\n",
       "      <td>6</td>\n",
       "      <td>6</td>\n",
       "      <td>6</td>\n",
       "      <td>6.0</td>\n",
       "      <td>0.0</td>\n",
       "      <td>...</td>\n",
       "      <td>20</td>\n",
       "      <td>0.0</td>\n",
       "      <td>0.0</td>\n",
       "      <td>0</td>\n",
       "      <td>0</td>\n",
       "      <td>0.0</td>\n",
       "      <td>0.0</td>\n",
       "      <td>0</td>\n",
       "      <td>0</td>\n",
       "      <td>0</td>\n",
       "    </tr>\n",
       "    <tr>\n",
       "      <th>3</th>\n",
       "      <td>46236</td>\n",
       "      <td>34</td>\n",
       "      <td>1</td>\n",
       "      <td>1</td>\n",
       "      <td>6</td>\n",
       "      <td>6</td>\n",
       "      <td>6</td>\n",
       "      <td>6</td>\n",
       "      <td>6.0</td>\n",
       "      <td>0.0</td>\n",
       "      <td>...</td>\n",
       "      <td>20</td>\n",
       "      <td>0.0</td>\n",
       "      <td>0.0</td>\n",
       "      <td>0</td>\n",
       "      <td>0</td>\n",
       "      <td>0.0</td>\n",
       "      <td>0.0</td>\n",
       "      <td>0</td>\n",
       "      <td>0</td>\n",
       "      <td>0</td>\n",
       "    </tr>\n",
       "    <tr>\n",
       "      <th>4</th>\n",
       "      <td>54863</td>\n",
       "      <td>3</td>\n",
       "      <td>2</td>\n",
       "      <td>0</td>\n",
       "      <td>12</td>\n",
       "      <td>0</td>\n",
       "      <td>6</td>\n",
       "      <td>6</td>\n",
       "      <td>6.0</td>\n",
       "      <td>0.0</td>\n",
       "      <td>...</td>\n",
       "      <td>20</td>\n",
       "      <td>0.0</td>\n",
       "      <td>0.0</td>\n",
       "      <td>0</td>\n",
       "      <td>0</td>\n",
       "      <td>0.0</td>\n",
       "      <td>0.0</td>\n",
       "      <td>0</td>\n",
       "      <td>0</td>\n",
       "      <td>0</td>\n",
       "    </tr>\n",
       "  </tbody>\n",
       "</table>\n",
       "<p>5 rows × 79 columns</p>\n",
       "</div>"
      ]
     },
     "execution_count": 158,
     "metadata": {},
     "output_type": "execute_result"
    }
   ],
   "execution_count": 158
  },
  {
   "metadata": {
    "ExecuteTime": {
     "end_time": "2025-05-15T17:09:58.806792Z",
     "start_time": "2025-05-15T17:09:58.794234Z"
    }
   },
   "cell_type": "code",
   "source": "df['Label'].unique()",
   "id": "3778622c927a4ba",
   "outputs": [
    {
     "data": {
      "text/plain": [
       "array([ 0,  2, 10,  1,  9, 12, 14, 13,  7, 11,  6,  5,  4,  3,  8])"
      ]
     },
     "execution_count": 159,
     "metadata": {},
     "output_type": "execute_result"
    }
   ],
   "execution_count": 159
  },
  {
   "metadata": {},
   "cell_type": "markdown",
   "source": "### Checking Missing Values",
   "id": "b295cc4a3ee3a956"
  },
  {
   "metadata": {
    "ExecuteTime": {
     "end_time": "2025-05-15T17:10:10.559331Z",
     "start_time": "2025-05-15T17:10:10.363077Z"
    }
   },
   "cell_type": "code",
   "source": "df.isna().sum()",
   "id": "1782ec8c2cc01525",
   "outputs": [
    {
     "data": {
      "text/plain": [
       " Destination Port              0\n",
       " Flow Duration                 0\n",
       " Total Fwd Packets             0\n",
       " Total Backward Packets        0\n",
       "Total Length of Fwd Packets    0\n",
       "                              ..\n",
       "Idle Mean                      0\n",
       " Idle Std                      0\n",
       " Idle Max                      0\n",
       " Idle Min                      0\n",
       "Label                          0\n",
       "Length: 79, dtype: int64"
      ]
     },
     "execution_count": 160,
     "metadata": {},
     "output_type": "execute_result"
    }
   ],
   "execution_count": 160
  },
  {
   "metadata": {
    "ExecuteTime": {
     "end_time": "2025-05-15T17:10:16.655875Z",
     "start_time": "2025-05-15T17:10:16.468999Z"
    }
   },
   "cell_type": "code",
   "source": [
    "missing_counts = df.isna().sum()\n",
    "missing_counts = missing_counts[missing_counts > 0]\n",
    "\n",
    "# Plotting the missing values\n",
    "plt.figure(figsize=(14, 6))\n",
    "missing_counts.plot(kind='bar')\n",
    "plt.title('Missing Values in Each Column')\n",
    "plt.xlabel('Columns')\n",
    "plt.ylabel('Number of Missing Values')\n",
    "plt.xticks(rotation=45)\n",
    "plt.show()"
   ],
   "id": "f68608747aabe639",
   "outputs": [
    {
     "data": {
      "text/plain": [
       "<Figure size 1400x600 with 1 Axes>"
      ],
      "image/png": "[encoded data removed]"
     },
     "metadata": {},
     "output_type": "display_data"
    }
   ],
   "execution_count": 161
  },
  {
   "metadata": {},
   "cell_type": "markdown",
   "source": "> The are some missing values in the dataset",
   "id": "9fa87a6675fa8a01"
  },
  {
   "metadata": {},
   "cell_type": "markdown",
   "source": "Removing the missing values and replacing the infinite values with NaN. These steps are important to prepare the data for the model",
   "id": "b288809422880285"
  },
  {
   "metadata": {
    "ExecuteTime": {
     "end_time": "2025-05-15T17:11:01.592846Z",
     "start_time": "2025-05-15T17:10:59.846949Z"
    }
   },
   "cell_type": "code",
   "source": [
    "# Dropping the infinite values and NaN values\n",
    "df = df.replace([np.inf, -np.inf], np.nan)\n",
    "df = df.dropna()\n",
    "df.isna().sum()"
   ],
   "id": "2dffdd0bf5b75fee",
   "outputs": [
    {
     "data": {
      "text/plain": [
       " Destination Port              0\n",
       " Flow Duration                 0\n",
       " Total Fwd Packets             0\n",
       " Total Backward Packets        0\n",
       "Total Length of Fwd Packets    0\n",
       "                              ..\n",
       "Idle Mean                      0\n",
       " Idle Std                      0\n",
       " Idle Max                      0\n",
       " Idle Min                      0\n",
       "Label                          0\n",
       "Length: 79, dtype: int64"
      ]
     },
     "execution_count": 163,
     "metadata": {},
     "output_type": "execute_result"
    }
   ],
   "execution_count": 163
  },
  {
   "metadata": {
    "ExecuteTime": {
     "end_time": "2025-05-15T17:11:04.671905Z",
     "start_time": "2025-05-15T17:11:04.457938Z"
    }
   },
   "cell_type": "code",
   "source": "sorted(df.max())",
   "id": "2c8e783609d15b47",
   "outputs": [
    {
     "data": {
      "text/plain": [
       "[0.0,\n",
       " 0.0,\n",
       " 0.0,\n",
       " 0.0,\n",
       " 0.0,\n",
       " 0.0,\n",
       " 0.0,\n",
       " 0.0,\n",
       " 1.0,\n",
       " 1.0,\n",
       " 1.0,\n",
       " 1.0,\n",
       " 1.0,\n",
       " 1.0,\n",
       " 1.0,\n",
       " 1.0,\n",
       " 1.0,\n",
       " 1.0,\n",
       " 14.0,\n",
       " 138.0,\n",
       " 156.0,\n",
       " 1448.0,\n",
       " 2325.0,\n",
       " 2896.0,\n",
       " 3337.142857,\n",
       " 3893.333333,\n",
       " 4731.522394,\n",
       " 5800.5,\n",
       " 5800.5,\n",
       " 5940.857143,\n",
       " 5940.857143,\n",
       " 7125.5968458437,\n",
       " 8194.660487,\n",
       " 19530.0,\n",
       " 24820.0,\n",
       " 24820.0,\n",
       " 65535.0,\n",
       " 65535.0,\n",
       " 65535.0,\n",
       " 213557.0,\n",
       " 219759.0,\n",
       " 219759.0,\n",
       " 291922.0,\n",
       " 291922.0,\n",
       " 2000000.0,\n",
       " 3000000.0,\n",
       " 4000000.0,\n",
       " 4644908.0,\n",
       " 4644908.0,\n",
       " 5838440.0,\n",
       " 12870338.0,\n",
       " 12900000.0,\n",
       " 22400000.0,\n",
       " 74200000.0,\n",
       " 76900000.0,\n",
       " 84418013.7826341,\n",
       " 84602929.2769822,\n",
       " 84800261.5664079,\n",
       " 110000000.0,\n",
       " 110000000.0,\n",
       " 110000000.0,\n",
       " 119999998.0,\n",
       " 120000000.0,\n",
       " 120000000.0,\n",
       " 120000000.0,\n",
       " 120000000.0,\n",
       " 120000000.0,\n",
       " 120000000.0,\n",
       " 120000000.0,\n",
       " 120000000.0,\n",
       " 120000000.0,\n",
       " 120000000.0,\n",
       " 120000000.0,\n",
       " 120000000.0,\n",
       " 120000000.0,\n",
       " 120000000.0,\n",
       " 655453030.0,\n",
       " 655453030.0,\n",
       " 2071000000.0]"
      ]
     },
     "execution_count": 164,
     "metadata": {},
     "output_type": "execute_result"
    }
   ],
   "execution_count": 164
  },
  {
   "metadata": {},
   "cell_type": "markdown",
   "source": "### Scaling and Train-Test Split",
   "id": "782ec2be3dfe74fa"
  },
  {
   "metadata": {
    "ExecuteTime": {
     "end_time": "2025-05-15T17:47:39.500042Z",
     "start_time": "2025-05-15T17:47:35.684445Z"
    }
   },
   "cell_type": "code",
   "source": [
    "X = df.drop(['Label'], axis=1)\n",
    "y = df['Label']\n",
    "\n",
    "\n",
    "X_train, X_test, y_train, y_test = train_test_split(X, y, test_size=0.2, random_state=42)\n",
    "\n",
    "scaler = StandardScaler()\n",
    "X_train = scaler.fit_transform(X_train)\n",
    "X_test = scaler.transform(X_test)\n",
    "len(X_train), len(X_test), len(y_train), len(y_test)"
   ],
   "id": "ab188b7aa0b07e79",
   "outputs": [
    {
     "data": {
      "text/plain": [
       "(2262300, 565576, 2262300, 565576)"
      ]
     },
     "execution_count": 186,
     "metadata": {},
     "output_type": "execute_result"
    }
   ],
   "execution_count": 186
  },
  {
   "metadata": {},
   "cell_type": "markdown",
   "source": [
    "## Training the Model\n",
    "in this section i will be training the model using the RandomForestClassifier, LogisticRegression, DecisionTree Classifier and the Neural Network\n",
    "\n",
    "I will also be evaluating the model using the classification report and confusion matrix and accuracy score\n"
   ],
   "id": "2f9264b64d2bd8ab"
  },
  {
   "metadata": {},
   "cell_type": "markdown",
   "source": [
    "### Random Forest Classifier model\n",
    "this is the first model i will be using to train the data and predict the labels, the random forest classifier is a supervised learning algorithm that is used for classification and regression tasks. It works by creating a forest of decision trees and combining their predictions to improve accuracy and reduce overfitting."
   ],
   "id": "c6c0b38e09c6d6be"
  },
  {
   "metadata": {
    "ExecuteTime": {
     "end_time": "2025-05-15T17:18:59.196810Z",
     "start_time": "2025-05-15T17:11:52.961865Z"
    }
   },
   "cell_type": "code",
   "source": [
    "# Model Prediction\n",
    "from sklearn.ensemble import RandomForestClassifier\n",
    "import time\n",
    "\n",
    "start_time = time.time()\n",
    "rfc = RandomForestClassifier()\n",
    "rfc.fit(X_train, y_train)\n",
    "end_time = time.time()"
   ],
   "id": "3c870b7c6f720fec",
   "outputs": [],
   "execution_count": 166
  },
  {
   "metadata": {},
   "cell_type": "markdown",
   "source": "Confusion matrix and classification report are used to evaluate the performance of the model. The confusion matrix shows the number of true positive, true negative, false positive and false negative predictions. The classification report shows the precision, recall and f1 score of the model.",
   "id": "3a7a3e6e3ff17a01"
  },
  {
   "metadata": {
    "ExecuteTime": {
     "end_time": "2025-05-15T17:19:11.173806Z",
     "start_time": "2025-05-15T17:19:08.244011Z"
    }
   },
   "cell_type": "code",
   "source": [
    "from sklearn.metrics import accuracy_score\n",
    "from sklearn.metrics import classification_report, confusion_matrix\n",
    "preds = rfc.predict(X_test)\n",
    "print(f'The accuracy of the model is {round(accuracy_score(y_test, preds))} With training time of {round(end_time - start_time, 2)} seconds')\n",
    "print(classification_report(y_test, preds))"
   ],
   "id": "645d4f5ae216ca86",
   "outputs": [
    {
     "name": "stdout",
     "output_type": "stream",
     "text": [
      "The accuracy of the model is 1 With training time of 426.23 seconds\n",
      "              precision    recall  f1-score   support\n",
      "\n",
      "           0       1.00      1.00      1.00    454089\n",
      "           1       0.91      0.69      0.79       386\n",
      "           2       1.00      1.00      1.00     25588\n",
      "           3       1.00      1.00      1.00      2055\n",
      "           4       1.00      1.00      1.00     46259\n",
      "           5       0.99      0.99      0.99      1103\n",
      "           6       1.00      1.00      1.00      1146\n",
      "           7       1.00      1.00      1.00      1570\n",
      "           8       1.00      1.00      1.00         3\n",
      "           9       1.00      1.00      1.00         5\n",
      "          10       0.99      1.00      0.99     31712\n",
      "          11       1.00      1.00      1.00      1242\n",
      "          12       0.74      0.83      0.78       291\n",
      "          13       1.00      0.20      0.33         5\n",
      "          14       0.41      0.25      0.31       122\n",
      "\n",
      "    accuracy                           1.00    565576\n",
      "   macro avg       0.94      0.86      0.88    565576\n",
      "weighted avg       1.00      1.00      1.00    565576\n",
      "\n"
     ]
    }
   ],
   "execution_count": 167
  },
  {
   "metadata": {},
   "cell_type": "markdown",
   "source": "Confusion Matrix Plot for Random Forest Classifier model",
   "id": "1fa372516aee0b1"
  },
  {
   "metadata": {
    "ExecuteTime": {
     "end_time": "2025-05-15T17:19:53.182468Z",
     "start_time": "2025-05-15T17:19:53.028182Z"
    }
   },
   "cell_type": "code",
   "source": [
    "cm_rf = confusion_matrix(y_test, preds)\n",
    "labels = le.inverse_transform(np.unique(y_test))\n",
    "plt.figure(figsize=(10, 7))\n",
    "sns.heatmap(cm_rf, annot=True, fmt='d', cmap='Blues', xticklabels=labels, yticklabels=labels)\n",
    "plt.title('Confusion Matrix for Random Forest Classifier')\n",
    "plt.xlabel('Predicted')\n",
    "plt.ylabel('True')\n",
    "plt.show()\n"
   ],
   "id": "1af83397baf53d79",
   "outputs": [
    {
     "name": "stderr",
     "output_type": "stream",
     "text": [
      "/opt/anaconda3/envs/AI2025-2/lib/python3.13/site-packages/seaborn/utils.py:61: UserWarning: Glyph 65533 (\\N{REPLACEMENT CHARACTER}) missing from font(s) Arial.\n",
      "  fig.canvas.draw()\n",
      "/opt/anaconda3/envs/AI2025-2/lib/python3.13/site-packages/IPython/core/pylabtools.py:170: UserWarning: Glyph 65533 (\\N{REPLACEMENT CHARACTER}) missing from font(s) Arial.\n",
      "  fig.canvas.print_figure(bytes_io, **kw)\n"
     ]
    },
    {
     "data": {
      "text/plain": [
       "<Figure size 1000x700 with 2 Axes>"
      ],
      "image/png": "[encoded data removed]"
     },
     "metadata": {},
     "output_type": "display_data"
    }
   ],
   "execution_count": 169
  },
  {
   "metadata": {},
   "cell_type": "markdown",
   "source": [
    "### Logistic Regression and Decision Tree Classifier\n",
    "Logistic Regression is a statistical method for predicting binary classes. The outcome is usually a binary variable (0/1, True/False, Yes/No). It uses the logistic function to model a binary dependent variable.\n",
    "Decision Tree Classifier is a supervised learning algorithm that is used for classification and regression tasks. It works by splitting the data into subsets based on the value of the input features. The splits are made based on the feature that provides the most information gain or the least impurity.\n",
    "\n",
    "The importance of these models is that they are easy to interpret and visualize. They can handle both numerical and categorical data. They are also robust to outliers and can handle missing values. However, they can be prone to overfitting if the tree is too deep or if there are too many features."
   ],
   "id": "5186b7d0020b520b"
  },
  {
   "metadata": {
    "ExecuteTime": {
     "end_time": "2025-05-15T17:51:41.032492Z",
     "start_time": "2025-05-15T17:48:12.818621Z"
    }
   },
   "cell_type": "code",
   "source": [
    "# Testing with other models\n",
    "from sklearn.tree import DecisionTreeClassifier\n",
    "from sklearn.linear_model import LogisticRegression\n",
    "from sklearn.svm import SVC\n",
    "\n",
    "\n",
    "tree = DecisionTreeClassifier()\n",
    "logreg = LogisticRegression()\n",
    "\n",
    "for model in [logreg, tree]:\n",
    "    model.fit(X_train, y_train)\n",
    "    preds = model.predict(X_test)\n",
    "    print(model.__class__.__name__, accuracy_score(y_test, preds))\n",
    "    # print(model.__class__.__name__, confusion_matrix(y_test, preds))\n",
    "    print(model.__class__.__name__, classification_report(y_test, preds))"
   ],
   "id": "2e84bad2ae6e7afb",
   "outputs": [
    {
     "name": "stderr",
     "output_type": "stream",
     "text": [
      "/opt/anaconda3/envs/AI2025-2/lib/python3.13/site-packages/sklearn/linear_model/_logistic.py:465: ConvergenceWarning: lbfgs failed to converge (status=1):\n",
      "STOP: TOTAL NO. OF ITERATIONS REACHED LIMIT.\n",
      "\n",
      "Increase the number of iterations (max_iter) or scale the data as shown in:\n",
      "    https://scikit-learn.org/stable/modules/preprocessing.html\n",
      "Please also refer to the documentation for alternative solver options:\n",
      "    https://scikit-learn.org/stable/modules/linear_model.html#logistic-regression\n",
      "  n_iter_i = _check_optimize_result(\n"
     ]
    },
    {
     "name": "stdout",
     "output_type": "stream",
     "text": [
      "LogisticRegression 0.967599403086411\n",
      "LogisticRegression               precision    recall  f1-score   support\n",
      "\n",
      "           0       0.99      0.97      0.98    454089\n",
      "           1       0.18      0.01      0.02       386\n",
      "           2       0.99      0.96      0.98     25588\n",
      "           3       0.89      0.86      0.88      2055\n",
      "           4       0.92      0.96      0.94     46259\n",
      "           5       0.81      0.83      0.82      1103\n",
      "           6       0.88      0.52      0.66      1146\n",
      "           7       0.92      0.54      0.68      1570\n",
      "           8       0.00      0.00      0.00         3\n",
      "           9       0.00      0.00      0.00         5\n",
      "          10       0.81      1.00      0.89     31712\n",
      "          11       0.69      0.07      0.14      1242\n",
      "          12       0.00      0.00      0.00       291\n",
      "          13       0.00      0.00      0.00         5\n",
      "          14       0.00      0.00      0.00       122\n",
      "\n",
      "    accuracy                           0.97    565576\n",
      "   macro avg       0.54      0.45      0.47    565576\n",
      "weighted avg       0.97      0.97      0.97    565576\n",
      "\n"
     ]
    },
    {
     "name": "stderr",
     "output_type": "stream",
     "text": [
      "/opt/anaconda3/envs/AI2025-2/lib/python3.13/site-packages/sklearn/metrics/_classification.py:1565: UndefinedMetricWarning: Precision is ill-defined and being set to 0.0 in labels with no predicted samples. Use `zero_division` parameter to control this behavior.\n",
      "  _warn_prf(average, modifier, f\"{metric.capitalize()} is\", len(result))\n",
      "/opt/anaconda3/envs/AI2025-2/lib/python3.13/site-packages/sklearn/metrics/_classification.py:1565: UndefinedMetricWarning: Precision is ill-defined and being set to 0.0 in labels with no predicted samples. Use `zero_division` parameter to control this behavior.\n",
      "  _warn_prf(average, modifier, f\"{metric.capitalize()} is\", len(result))\n",
      "/opt/anaconda3/envs/AI2025-2/lib/python3.13/site-packages/sklearn/metrics/_classification.py:1565: UndefinedMetricWarning: Precision is ill-defined and being set to 0.0 in labels with no predicted samples. Use `zero_division` parameter to control this behavior.\n",
      "  _warn_prf(average, modifier, f\"{metric.capitalize()} is\", len(result))\n"
     ]
    },
    {
     "name": "stdout",
     "output_type": "stream",
     "text": [
      "DecisionTreeClassifier 0.9984016294892287\n",
      "DecisionTreeClassifier               precision    recall  f1-score   support\n",
      "\n",
      "           0       1.00      1.00      1.00    454089\n",
      "           1       0.82      0.81      0.82       386\n",
      "           2       1.00      1.00      1.00     25588\n",
      "           3       1.00      1.00      1.00      2055\n",
      "           4       1.00      1.00      1.00     46259\n",
      "           5       0.98      0.99      0.99      1103\n",
      "           6       0.99      0.99      0.99      1146\n",
      "           7       1.00      1.00      1.00      1570\n",
      "           8       1.00      1.00      1.00         3\n",
      "           9       1.00      1.00      1.00         5\n",
      "          10       0.99      0.99      0.99     31712\n",
      "          11       1.00      1.00      1.00      1242\n",
      "          12       0.76      0.77      0.76       291\n",
      "          13       0.75      0.60      0.67         5\n",
      "          14       0.43      0.40      0.41       122\n",
      "\n",
      "    accuracy                           1.00    565576\n",
      "   macro avg       0.91      0.90      0.91    565576\n",
      "weighted avg       1.00      1.00      1.00    565576\n",
      "\n"
     ]
    }
   ],
   "execution_count": 187
  },
  {
   "metadata": {},
   "cell_type": "markdown",
   "source": [
    "### Neural Network Model\n",
    "The neural network model is a supervised learning algorithm that is used for classification and regression tasks. It works by creating a network of neurons that are connected to each other. The neurons are organized into layers, with each layer performing a specific function. The input layer receives the input data, the hidden layers perform computations on the data, and the output layer produces the final output.\n",
    "\n",
    "With neural network model it helps to learn complex patterns in the data and can handle large amounts of data. It is also robust to noise and can handle missing values. However, it can be prone to overfitting if the network is too deep or if there are too many features. It also requires a lot of computational power and time to train the model."
   ],
   "id": "773fa41ab8111d74"
  },
  {
   "metadata": {
    "ExecuteTime": {
     "end_time": "2025-05-15T17:20:46.537748Z",
     "start_time": "2025-05-15T17:20:46.531939Z"
    }
   },
   "cell_type": "code",
   "source": [
    "class SimpleNN(nn.Module):\n",
    "    def __init__(self, input_size, hidden_size, output_size):\n",
    "        super(SimpleNN, self).__init__()\n",
    "        self.fc1 = nn.Linear(input_size, hidden_size)\n",
    "        self.fc2 = nn.Linear(hidden_size, output_size)\n",
    "\n",
    "    def forward(self, x):\n",
    "        x = F.relu(self.fc1(x))\n",
    "        x = self.fc2(x)\n",
    "        return x"
   ],
   "id": "2124cfa7214e63bc",
   "outputs": [],
   "execution_count": 170
  },
  {
   "metadata": {},
   "cell_type": "markdown",
   "source": [
    "Fitness function definition\n",
    "\n",
    "\n",
    "I have created a function called fit that takes the model, optimizer, criterion, epochs, train_dataloader and val_dataloader as input parameters. The function trains the model using the given parameters and returns the trained model.\n",
    "The function first sets the model to training mode and then iterates over the number of epochs. For each epoch, it iterates over the training dataloader and performs the following steps:\n",
    "1. Zero the gradients of the optimizer\n",
    "2. Perform a forward pass of the model\n",
    "3. Calculate the loss using the criterion\n",
    "4. Perform a backward pass of the model\n",
    "5. Evaluate the model using the validation dataloader\n",
    "6. Calculate the accuracy of the model\n",
    "7. Print the loss and accuracy of the model\n",
    "8. Append the loss to the train_losses and test_losses lists"
   ],
   "id": "e4cb5d84c621b205"
  },
  {
   "metadata": {
    "ExecuteTime": {
     "end_time": "2025-05-15T17:58:15.461480Z",
     "start_time": "2025-05-15T17:58:15.458479Z"
    }
   },
   "cell_type": "code",
   "source": [
    "def fit(model,\n",
    "        optimizer,\n",
    "        criterion=nn.CrossEntropyLoss(),\n",
    "        epochs=5,\n",
    "        train_dataloader=None,\n",
    "        val_dataloader=None):\n",
    "    \"\"\"\n",
    "    Train the model with the given parameters.\n",
    "    Args:\n",
    "        model (nn.Module): The model to train.\n",
    "        optimizer (torch.optim.Optimizer): The optimizer to use.\n",
    "        criterion (nn.Module): The loss function to use.\n",
    "        epochs (int): Number of epochs to train for.\n",
    "        train_dataloader (DataLoader): DataLoader for training data.\n",
    "        val_dataloader (DataLoader): DataLoader for validation data.\n",
    "    \"\"\"\n",
    "    optimizer = optim.Adam(model.parameters(), lr=0.001) if optimizer is None else optimizer\n",
    "    model.train()\n",
    "    for epoch in range(epochs):\n",
    "        epoch_loss = 0\n",
    "        for inputs, labels in train_dataloader:\n",
    "            optimizer.zero_grad()\n",
    "            outputs = model(inputs)\n",
    "            loss = criterion(outputs, labels)\n",
    "            loss.backward()\n",
    "            optimizer.step()\n",
    "            epoch_loss += loss.item() * inputs.size(0)  # Accumulate weighted loss\n",
    "\n",
    "        epoch_loss /= len(train_dataloader.dataset)  # Average loss\n",
    "        # print(f'Epoch [{epoch+1}/{len(epochs)}], Loss: {epoch_loss:.4f}')\n",
    "        # Validation\n",
    "        model.eval()\n",
    "        val_loss = 0\n",
    "        correct = 0\n",
    "        total = 0\n",
    "        with torch.no_grad():\n",
    "            for inputs, labels in val_dataloader:\n",
    "                outputs = model(inputs)\n",
    "                loss = criterion(outputs, labels)\n",
    "                val_loss += loss.item() * inputs.size(0)\n",
    "\n",
    "                preds = torch.argmax(outputs, dim=1)\n",
    "                correct += (preds == labels).sum().item()\n",
    "                total += labels.size(0)\n",
    "        val_loss /= len(val_dataloader.dataset)\n",
    "        accuracy = correct / total\n",
    "        print(f'Epoch [{epoch+1}/{epochs}], Train Loss: {epoch_loss:.4f}, Test Loss: {val_loss:.4f}, Accuracy: {accuracy:.4f}')\n",
    "        train_losses.append(epoch_loss)\n",
    "        test_losses.append(val_loss)\n",
    "    return train_"
   ],
   "id": "751464a77353033",
   "outputs": [],
   "execution_count": 194
  },
  {
   "metadata": {
    "ExecuteTime": {
     "end_time": "2025-05-15T17:59:52.074004Z",
     "start_time": "2025-05-15T17:58:18.196919Z"
    }
   },
   "cell_type": "code",
   "source": [
    "X_train_tensor = torch.tensor(X_train, dtype=torch.float32)\n",
    "X_test_tensor = torch.tensor(X_test, dtype=torch.float32)\n",
    "y_train_tensor = torch.tensor(y_train.values, dtype=torch.long)\n",
    "y_test_tensor = torch.tensor(y_test.values, dtype=torch.long)\n",
    "\n",
    "# Batch size\n",
    "batch_size = 32\n",
    "\n",
    "# tensor datasets\n",
    "train_dataset = TensorDataset(X_train_tensor, y_train_tensor)\n",
    "test_dataset = TensorDataset(X_test_tensor, y_test_tensor)\n",
    "\n",
    "# Dataloaders\n",
    "train_loader = DataLoader(train_dataset, batch_size=batch_size, shuffle=True)\n",
    "test_loader = DataLoader(test_dataset, batch_size=batch_size, shuffle=False)\n",
    "\n",
    "# Model Definition\n",
    "model = SimpleNN(input_size=X_train.shape[1], hidden_size=32, output_size=len(le.classes_))\n",
    "\n",
    "# Define loss function and optimizer\n",
    "criterion = nn.CrossEntropyLoss()\n",
    "optimizer = optim.Adam(model.parameters(), lr=0.001)\n",
    "\n",
    "# Fit the function\n",
    "fit(model=model,\n",
    "    optimizer=optimizer,\n",
    "    criterion=criterion,\n",
    "    epochs=5,\n",
    "    train_dataloader=train_loader,\n",
    "    val_dataloader=test_loader)\n"
   ],
   "id": "25cb07cc3d70f81e",
   "outputs": [
    {
     "name": "stdout",
     "output_type": "stream",
     "text": [
      "Epoch [1/5], Train Loss: 0.0695, Test Loss: 0.0505, Accuracy: 0.9786\n",
      "Epoch [2/5], Train Loss: 0.0482, Test Loss: 0.0431, Accuracy: 0.9830\n",
      "Epoch [3/5], Train Loss: 0.0417, Test Loss: 0.0385, Accuracy: 0.9887\n",
      "Epoch [4/5], Train Loss: 0.0356, Test Loss: 0.0302, Accuracy: 0.9909\n",
      "Epoch [5/5], Train Loss: 0.0305, Test Loss: 0.0270, Accuracy: 0.9912\n"
     ]
    }
   ],
   "execution_count": 195
  },
  {
   "metadata": {},
   "cell_type": "markdown",
   "source": "## Dimensionality Reduction",
   "id": "acd08f70f8720834"
  },
  {
   "metadata": {
    "ExecuteTime": {
     "end_time": "2025-05-15T17:40:29.409902Z",
     "start_time": "2025-05-15T17:38:57.904451Z"
    }
   },
   "cell_type": "code",
   "source": [
    "# Using PCA\n",
    "from sklearn.decomposition import PCA\n",
    "pca = PCA()\n",
    "X_train_pca = pca.fit_transform(X_train)\n",
    "X_test_pca = pca.transform(X_test)\n",
    "\n",
    "X_train_tensor_pca = torch.tensor(X_train_pca, dtype=torch.float32)\n",
    "X_test_tensor_pca = torch.tensor(X_test_pca, dtype=torch.float32)\n",
    "y_train_tensor_pca = torch.tensor(y_train.values, dtype=torch.long)\n",
    "y_test_tensor_pca = torch.tensor(y_test.values, dtype=torch.long)\n",
    "\n",
    "train_dataset_pca = TensorDataset(X_train_tensor_pca, y_train_tensor_pca)\n",
    "test_dataset_pca = TensorDataset(X_test_tensor_pca, y_test_tensor_pca)\n",
    "\n",
    "train_loader_pca = DataLoader(train_dataset_pca, batch_size=batch_size, shuffle=True)\n",
    "test_loader_pca = DataLoader(test_dataset_pca, batch_size=batch_size, shuffle=False)\n",
    "\n",
    "model_pca = SimpleNN(input_size=X_train_pca.shape[1], hidden_size=32, output_size=len(le.classes_))\n",
    "criterion_pca = nn.CrossEntropyLoss()\n",
    "optimizer_pca = optim.Adam(model_pca.parameters(), lr=0.001)\n",
    "\n",
    "train_losses = []\n",
    "test_losses = []\n",
    "\n",
    "for epoch in range(5):\n",
    "    model_pca.train()\n",
    "    for inputs, labels in train_loader_pca:\n",
    "        optimizer_pca.zero_grad()\n",
    "        outputs = model_pca(inputs)\n",
    "        loss = criterion_pca(outputs, labels)\n",
    "        loss.backward()\n",
    "        optimizer_pca.step()\n",
    "        train_losses.append(loss.item())\n",
    "\n",
    "    model_pca.eval()\n",
    "    test_loss = 0.0\n",
    "    correct = 0\n",
    "    total = 0\n",
    "\n",
    "    with torch.no_grad():\n",
    "        for inputs, labels in test_loader_pca:\n",
    "            outputs = model_pca(inputs)\n",
    "            loss = criterion_pca(outputs, labels)\n",
    "            test_loss += loss.item() * inputs.size(0)\n",
    "\n",
    "            preds = torch.argmax(outputs, dim=1)\n",
    "            correct += (preds == labels).sum().item()\n",
    "            total += labels.size(0)\n",
    "\n",
    "    test_loss /= len(test_loader_pca.dataset)\n",
    "    test_losses.append(test_loss)\n",
    "    accuracy = correct / total\n",
    "\n",
    "    print(f\"Epoch [{epoch+1}/5], Test Loss: {test_loss:.4f}, Accuracy: {accuracy:.4f}\")"
   ],
   "id": "188649284926ec79",
   "outputs": [
    {
     "name": "stdout",
     "output_type": "stream",
     "text": [
      "Epoch [1/5], Test Loss: 0.0519, Accuracy: 0.9785\n",
      "Epoch [2/5], Test Loss: 0.0443, Accuracy: 0.9817\n",
      "Epoch [3/5], Test Loss: 0.0388, Accuracy: 0.9829\n",
      "Epoch [4/5], Test Loss: 0.0334, Accuracy: 0.9900\n",
      "Epoch [5/5], Test Loss: 0.0314, Accuracy: 0.9901\n"
     ]
    }
   ],
   "execution_count": 177
  },
  {
   "metadata": {},
   "cell_type": "code",
   "outputs": [
    {
     "data": {
      "text/plain": [
       "<Figure size 1000x500 with 1 Axes>"
      ],
      "image/png": "[encoded data removed]"
     },
     "metadata": {},
     "output_type": "display_data"
    }
   ],
   "execution_count": 174,
   "source": [
    "import matplotlib.pyplot as plt\n",
    "plt.figure(figsize=(10, 5))\n",
    "plt.plot(train_losses, label='Train Loss')\n",
    "plt.plot(test_losses, label='Test Loss')\n",
    "plt.title('Loss vs Epochs')\n",
    "plt.xlabel('Epochs')\n",
    "plt.ylabel('Loss')\n",
    "plt.legend()\n",
    "plt.show()"
   ],
   "id": "1ccdd767a9d8324f"
  },
  {
   "metadata": {},
   "cell_type": "markdown",
   "source": "> The plot for the loss vs epochs shows that the model is learning and the loss is decreasing over the epochs. both the train and test loss are decreasing which indicates that the model is learning and not overfitting. The model is able to generalize well on the test data.",
   "id": "63aece65a3fdcc35"
  },
  {
   "metadata": {
    "ExecuteTime": {
     "end_time": "2025-05-15T17:41:42.018977Z",
     "start_time": "2025-05-15T17:41:40.601506Z"
    }
   },
   "cell_type": "code",
   "source": [
    "pca_full = PCA()\n",
    "pca_full.fit(X_train)\n",
    "\n",
    "explained_variance = pca_full.explained_variance_ratio_\n",
    "cumulative_variance = np.cumsum(explained_variance)\n",
    "plt.figure(figsize=(10, 5))\n",
    "plt.plot(cumulative_variance, marker='o')\n",
    "plt.title('Cumulative Explained Variance by PCA Components')\n",
    "plt.xlabel('Number of Components')\n",
    "plt.ylabel('Cumulative Explained Variance')\n",
    "plt.grid()\n",
    "plt.show()"
   ],
   "id": "9156f745520cb226",
   "outputs": [
    {
     "data": {
      "text/plain": [
       "<Figure size 1000x500 with 1 Axes>"
      ],
      "image/png": "[encoded data removed]"
     },
     "metadata": {},
     "output_type": "display_data"
    }
   ],
   "execution_count": 178
  },
  {
   "metadata": {
    "ExecuteTime": {
     "end_time": "2025-05-15T17:43:06.067171Z",
     "start_time": "2025-05-15T17:43:06.064471Z"
    }
   },
   "cell_type": "code",
   "source": [
    "n_components_95 = np.argmax(cumulative_variance >= 0.95) + 1\n",
    "n_components_95"
   ],
   "id": "8d0e4571afe0edee",
   "outputs": [
    {
     "data": {
      "text/plain": [
       "np.int64(25)"
      ]
     },
     "execution_count": 182,
     "metadata": {},
     "output_type": "execute_result"
    }
   ],
   "execution_count": 182
  },
  {
   "metadata": {},
   "cell_type": "markdown",
   "source": "> The number of components to retain 95% of the variance is 25",
   "id": "5faa0922c5602e3f"
  },
  {
   "metadata": {},
   "cell_type": "markdown",
   "source": [
    "### Using PCA with 95% variance\n",
    "In this section i will be using PCA to reduce the dimensionality of the data and then train the model using the reduced data. I will be using the same model as before and will be evaluating the model using the accuracy."
   ],
   "id": "d2b8627fc006b830"
  },
  {
   "metadata": {
    "ExecuteTime": {
     "end_time": "2025-05-15T17:45:29.586855Z",
     "start_time": "2025-05-15T17:44:05.109890Z"
    }
   },
   "cell_type": "code",
   "source": [
    "# Using PCA\n",
    "pca = PCA(n_components=n_components_95)\n",
    "X_train_pca = pca.fit_transform(X_train)\n",
    "X_test_pca = pca.transform(X_test)\n",
    "\n",
    "X_train_tensor_pca = torch.tensor(X_train_pca, dtype=torch.float32)\n",
    "X_test_tensor_pca = torch.tensor(X_test_pca, dtype=torch.float32)\n",
    "y_train_tensor_pca = torch.tensor(y_train.values, dtype=torch.long)\n",
    "y_test_tensor_pca = torch.tensor(y_test.values, dtype=torch.long)\n",
    "\n",
    "train_dataset_pca = TensorDataset(X_train_tensor_pca, y_train_tensor_pca)\n",
    "test_dataset_pca = TensorDataset(X_test_tensor_pca, y_test_tensor_pca)\n",
    "\n",
    "train_loader_pca = DataLoader(train_dataset_pca, batch_size=batch_size, shuffle=True)\n",
    "test_loader_pca = DataLoader(test_dataset_pca, batch_size=batch_size, shuffle=False)\n",
    "\n",
    "model_pca = SimpleNN(input_size=X_train_pca.shape[1], hidden_size=32, output_size=len(le.classes_))\n",
    "criterion_pca = nn.CrossEntropyLoss()\n",
    "optimizer_pca = optim.Adam(model_pca.parameters(), lr=0.001)\n",
    "\n",
    "train_losses = []\n",
    "test_losses = []\n",
    "\n",
    "for epoch in range(5):\n",
    "    model_pca.train()\n",
    "    for inputs, labels in train_loader_pca:\n",
    "        optimizer_pca.zero_grad()\n",
    "        outputs = model_pca(inputs)\n",
    "        loss = criterion_pca(outputs, labels)\n",
    "        loss.backward()\n",
    "        optimizer_pca.step()\n",
    "        train_losses.append(loss.item())\n",
    "\n",
    "    model_pca.eval()\n",
    "    test_loss = 0.0\n",
    "    correct = 0\n",
    "    total = 0\n",
    "\n",
    "    with torch.no_grad():\n",
    "        for inputs, labels in test_loader_pca:\n",
    "            outputs = model_pca(inputs)\n",
    "            loss = criterion_pca(outputs, labels)\n",
    "            test_loss += loss.item() * inputs.size(0)\n",
    "\n",
    "            preds = torch.argmax(outputs, dim=1)\n",
    "            correct += (preds == labels).sum().item()\n",
    "            total += labels.size(0)\n",
    "\n",
    "    test_loss /= len(test_loader_pca.dataset)\n",
    "    test_losses.append(test_loss)\n",
    "    accuracy = correct / total\n",
    "\n",
    "    print(f\"Epoch [{epoch+1}/5], Test Loss: {test_loss:.4f}, Accuracy: {accuracy:.4f}\")"
   ],
   "id": "582bd15d53103c5",
   "outputs": [
    {
     "name": "stdout",
     "output_type": "stream",
     "text": [
      "Epoch [1/5], Test Loss: 0.0617, Accuracy: 0.9753\n",
      "Epoch [2/5], Test Loss: 0.0568, Accuracy: 0.9772\n",
      "Epoch [3/5], Test Loss: 0.0556, Accuracy: 0.9758\n",
      "Epoch [4/5], Test Loss: 0.0519, Accuracy: 0.9792\n",
      "Epoch [5/5], Test Loss: 0.0527, Accuracy: 0.9789\n"
     ]
    }
   ],
   "execution_count": 183
  },
  {
   "metadata": {},
   "cell_type": "code",
   "outputs": [],
   "execution_count": null,
   "source": "",
   "id": "e5366dfefc6319e8"
  }
 ],
 "metadata": {
  "kernelspec": {
   "display_name": "Python 3",
   "language": "python",
   "name": "python3"
  },
  "language_info": {
   "codemirror_mode": {
    "name": "ipython",
    "version": 2
   },
   "file_extension": ".py",
   "mimetype": "text/x-python",
   "name": "python",
   "nbconvert_exporter": "python",
   "pygments_lexer": "ipython2",
   "version": "2.7.6"
  }
 },
 "nbformat": 4,
 "nbformat_minor": 5
}
