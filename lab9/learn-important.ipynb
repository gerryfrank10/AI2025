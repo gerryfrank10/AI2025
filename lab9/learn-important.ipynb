{
 "cells": [
  {
   "cell_type": "code",
   "id": "initial_id",
   "metadata": {
    "collapsed": true,
    "ExecuteTime": {
     "end_time": "2025-04-05T01:51:57.177022Z",
     "start_time": "2025-04-05T01:51:57.172907Z"
    }
   },
   "source": [
    "import torch\n",
    "import numpy as np\n",
    "\n",
    "from lab9.Understanding_PyTorch_Copy import joint_dataset"
   ],
   "outputs": [],
   "execution_count": 5
  },
  {
   "metadata": {
    "ExecuteTime": {
     "end_time": "2025-04-05T01:53:09.226148Z",
     "start_time": "2025-04-05T01:53:09.215837Z"
    }
   },
   "cell_type": "code",
   "source": [
    "torch.manual_seed(0)\n",
    "t1 = 2 * torch.rand(5,2) - 1\n",
    "t2 = torch.normal(mean=0, std=1, size=(5,2))\n",
    "print(t1)\n",
    "print(t2)"
   ],
   "id": "29c508a2ebf1416",
   "outputs": [
    {
     "name": "stdout",
     "output_type": "stream",
     "text": [
      "tensor([[-0.0075,  0.5364],\n",
      "        [-0.8230, -0.7359],\n",
      "        [-0.3852,  0.2682],\n",
      "        [-0.0198,  0.7929],\n",
      "        [-0.0887,  0.2646]])\n",
      "tensor([[ 0.1604, -0.6065],\n",
      "        [-0.7831,  1.0622],\n",
      "        [-0.2613,  1.0667],\n",
      "        [ 0.4159,  0.8396],\n",
      "        [-0.8265, -0.7949]])\n"
     ]
    }
   ],
   "execution_count": 6
  },
  {
   "metadata": {
    "ExecuteTime": {
     "end_time": "2025-04-05T01:54:48.739539Z",
     "start_time": "2025-04-05T01:54:48.734140Z"
    }
   },
   "cell_type": "code",
   "source": [
    "# Perform element-wise multiplication of matrix\n",
    "torch.multiply(t1, t2)"
   ],
   "id": "4f43c52ca4d66bb8",
   "outputs": [
    {
     "data": {
      "text/plain": [
       "tensor([[-0.0012, -0.3253],\n",
       "        [ 0.6445, -0.7817],\n",
       "        [ 0.1006,  0.2860],\n",
       "        [-0.0082,  0.6657],\n",
       "        [ 0.0733, -0.2104]])"
      ]
     },
     "execution_count": 11,
     "metadata": {},
     "output_type": "execute_result"
    }
   ],
   "execution_count": 11
  },
  {
   "metadata": {
    "ExecuteTime": {
     "end_time": "2025-04-05T01:57:48.047111Z",
     "start_time": "2025-04-05T01:57:48.041717Z"
    }
   },
   "cell_type": "code",
   "source": [
    "# Perform dot product\n",
    "torch.mm(t1, t2.T)"
   ],
   "id": "758cde42480782b6",
   "outputs": [
    {
     "data": {
      "text/plain": [
       "tensor([[-0.3265,  0.5757,  0.5742,  0.4473, -0.4203],\n",
       "        [ 0.3143, -0.1372, -0.5700, -0.9602,  1.2652],\n",
       "        [-0.2244,  0.5864,  0.3867,  0.0650,  0.1051],\n",
       "        [-0.4840,  0.8577,  0.8510,  0.6574, -0.6139],\n",
       "        [-0.1747,  0.3506,  0.3055,  0.1853, -0.1370]])"
      ]
     },
     "execution_count": 16,
     "metadata": {},
     "output_type": "execute_result"
    }
   ],
   "execution_count": 16
  },
  {
   "metadata": {},
   "cell_type": "markdown",
   "source": "## Split, stack and concatenate tensors",
   "id": "84e2f1b8024d3c0e"
  },
  {
   "metadata": {
    "ExecuteTime": {
     "end_time": "2025-04-05T02:01:47.415258Z",
     "start_time": "2025-04-05T02:01:47.408873Z"
    }
   },
   "cell_type": "code",
   "source": [
    "torch.manual_seed(0)\n",
    "t = torch.randn(6)\n",
    "print(f'Tensor t : {t}')\n",
    "t_splits = torch.chunk(t, 3)\n",
    "[item.numpy() for item in t_splits]"
   ],
   "id": "faa786382eec7c16",
   "outputs": [
    {
     "name": "stdout",
     "output_type": "stream",
     "text": [
      "Tensor t : tensor([ 1.5410, -0.2934, -2.1788,  0.5684, -1.0845, -1.3986])\n"
     ]
    },
    {
     "data": {
      "text/plain": [
       "[array([ 1.5409961, -0.2934289], dtype=float32),\n",
       " array([-2.1787894 ,  0.56843126], dtype=float32),\n",
       " array([-1.0845224, -1.3985955], dtype=float32)]"
      ]
     },
     "execution_count": 23,
     "metadata": {},
     "output_type": "execute_result"
    }
   ],
   "execution_count": 23
  },
  {
   "metadata": {
    "ExecuteTime": {
     "end_time": "2025-04-05T02:02:17.662547Z",
     "start_time": "2025-04-05T02:02:17.656312Z"
    }
   },
   "cell_type": "code",
   "source": [
    "torch.manual_seed(0)\n",
    "t = torch.rand(8)\n",
    "print(f'Tensor t : {t}')\n",
    "t_splits = torch.chunk(t, 3) # 8 ! // 3 so the last element will not have the same number as others\n",
    "[item.numpy() for item in t_splits]"
   ],
   "id": "8ee227f4c8cd123d",
   "outputs": [
    {
     "name": "stdout",
     "output_type": "stream",
     "text": [
      "Tensor t : tensor([0.4963, 0.7682, 0.0885, 0.1320, 0.3074, 0.6341, 0.4901, 0.8964])\n"
     ]
    },
    {
     "data": {
      "text/plain": [
       "[array([0.4962566 , 0.7682218 , 0.08847743], dtype=float32),\n",
       " array([0.13203049, 0.30742282, 0.6340787 ], dtype=float32),\n",
       " array([0.4900934 , 0.89644474], dtype=float32)]"
      ]
     },
     "execution_count": 24,
     "metadata": {},
     "output_type": "execute_result"
    }
   ],
   "execution_count": 24
  },
  {
   "metadata": {},
   "cell_type": "markdown",
   "source": "## Stacking",
   "id": "d20af552e2e36fed"
  },
  {
   "metadata": {
    "ExecuteTime": {
     "end_time": "2025-04-05T02:05:10.315630Z",
     "start_time": "2025-04-05T02:05:10.312156Z"
    }
   },
   "cell_type": "code",
   "source": [
    "A = torch.ones(3)\n",
    "B = torch.zeros(2)\n",
    "\n",
    "C = torch.cat([A, B], axis=0)\n",
    "C"
   ],
   "id": "a7b7b8ef508d4fc7",
   "outputs": [
    {
     "data": {
      "text/plain": [
       "tensor([1., 1., 1., 0., 0.])"
      ]
     },
     "execution_count": 30,
     "metadata": {},
     "output_type": "execute_result"
    }
   ],
   "execution_count": 30
  },
  {
   "metadata": {
    "ExecuteTime": {
     "end_time": "2025-04-05T02:05:58.714085Z",
     "start_time": "2025-04-05T02:05:58.708650Z"
    }
   },
   "cell_type": "code",
   "source": [
    "A = torch.ones(3)\n",
    "B = torch.zeros(3)\n",
    "\n",
    "C = torch.stack([A, B], axis=1) # Column stacking\n",
    "C"
   ],
   "id": "308745457bf44ad9",
   "outputs": [
    {
     "data": {
      "text/plain": [
       "tensor([[1., 0.],\n",
       "        [1., 0.],\n",
       "        [1., 0.]])"
      ]
     },
     "execution_count": 32,
     "metadata": {},
     "output_type": "execute_result"
    }
   ],
   "execution_count": 32
  },
  {
   "metadata": {},
   "cell_type": "markdown",
   "source": "## DataLoader",
   "id": "b0c6dd98d868da2b"
  },
  {
   "metadata": {
    "ExecuteTime": {
     "end_time": "2025-04-05T02:06:59.538832Z",
     "start_time": "2025-04-05T02:06:59.535075Z"
    }
   },
   "cell_type": "code",
   "source": [
    "from torch.utils.data import DataLoader\n",
    "\n",
    "t = torch.arange(6, dtype=torch.float32)\n",
    "data_loader = DataLoader(t)"
   ],
   "id": "c87c794268ab4ae0",
   "outputs": [],
   "execution_count": 33
  },
  {
   "metadata": {
    "ExecuteTime": {
     "end_time": "2025-04-05T02:07:02.310789Z",
     "start_time": "2025-04-05T02:07:02.307184Z"
    }
   },
   "cell_type": "code",
   "source": "type(data_loader) # DataLoader is an iterator",
   "id": "5439a6f9a2815169",
   "outputs": [
    {
     "data": {
      "text/plain": [
       "torch.utils.data.dataloader.DataLoader"
      ]
     },
     "execution_count": 34,
     "metadata": {},
     "output_type": "execute_result"
    }
   ],
   "execution_count": 34
  },
  {
   "metadata": {
    "ExecuteTime": {
     "end_time": "2025-04-05T02:07:25.574760Z",
     "start_time": "2025-04-05T02:07:25.568168Z"
    }
   },
   "cell_type": "code",
   "source": [
    "for item in data_loader:\n",
    "    print(item)"
   ],
   "id": "185df1536ec2ef12",
   "outputs": [
    {
     "name": "stdout",
     "output_type": "stream",
     "text": [
      "tensor([0.])\n",
      "tensor([1.])\n",
      "tensor([2.])\n",
      "tensor([3.])\n",
      "tensor([4.])\n",
      "tensor([5.])\n"
     ]
    }
   ],
   "execution_count": 35
  },
  {
   "metadata": {},
   "cell_type": "markdown",
   "source": "Now creating batch from dataset with desired batch size e.g 3",
   "id": "5b5797999eed0edb"
  },
  {
   "metadata": {
    "ExecuteTime": {
     "end_time": "2025-04-05T02:09:45.683225Z",
     "start_time": "2025-04-05T02:09:45.678921Z"
    }
   },
   "cell_type": "code",
   "source": [
    "data_loader = DataLoader(t, batch_size=3, drop_last=False)\n",
    "for i, batch in enumerate(data_loader):\n",
    "    print(f'Batch {i} : {batch}')"
   ],
   "id": "7bf5aaf67ae34408",
   "outputs": [
    {
     "name": "stdout",
     "output_type": "stream",
     "text": [
      "Batch 0 : tensor([0., 1., 2.])\n",
      "Batch 1 : tensor([3., 4., 5.])\n"
     ]
    }
   ],
   "execution_count": 36
  },
  {
   "metadata": {},
   "cell_type": "markdown",
   "source": "Combining two tensors into a joint dataset",
   "id": "687383c0fe51a879"
  },
  {
   "metadata": {
    "ExecuteTime": {
     "end_time": "2025-04-05T02:12:07.037546Z",
     "start_time": "2025-04-05T02:12:07.033274Z"
    }
   },
   "cell_type": "code",
   "source": [
    "torch.manual_seed(0)\n",
    "t_x = torch.rand([4,3], dtype=torch.float32)\n",
    "t_y = torch.arange(4)"
   ],
   "id": "314a7d04aeb1f73",
   "outputs": [],
   "execution_count": 37
  },
  {
   "metadata": {
    "ExecuteTime": {
     "end_time": "2025-04-05T02:15:01.144636Z",
     "start_time": "2025-04-05T02:15:01.139998Z"
    }
   },
   "cell_type": "code",
   "source": [
    "from torch.utils.data import Dataset\n",
    "\n",
    "class JointDataset(Dataset):\n",
    "    def __init__(self, x, y):\n",
    "        super().__init__()\n",
    "        self.x = x\n",
    "        self.y = y\n",
    "    def __len__(self):\n",
    "        return len(self.x)\n",
    "    def __getitem__(self, idx):\n",
    "        return self.x[idx], self.y[idx]"
   ],
   "id": "9d198f5b8a64f0ae",
   "outputs": [],
   "execution_count": 43
  },
  {
   "metadata": {
    "ExecuteTime": {
     "end_time": "2025-04-05T02:15:24.337010Z",
     "start_time": "2025-04-05T02:15:24.330387Z"
    }
   },
   "cell_type": "code",
   "source": [
    "joint_dataset = JointDataset(t_x, t_y)\n",
    "print(type(joint_dataset))\n",
    "for example in joint_dataset:\n",
    "    print(f' x : {example[0]} , y : {example[1]}')"
   ],
   "id": "9c0bf11654b80cba",
   "outputs": [
    {
     "name": "stdout",
     "output_type": "stream",
     "text": [
      "<class '__main__.JointDataset'>\n",
      " x : tensor([0.4963, 0.7682, 0.0885]) , y : 0\n",
      " x : tensor([0.1320, 0.3074, 0.6341]) , y : 1\n",
      " x : tensor([0.4901, 0.8964, 0.4556]) , y : 2\n",
      " x : tensor([0.6323, 0.3489, 0.4017]) , y : 3\n"
     ]
    }
   ],
   "execution_count": 45
  },
  {
   "metadata": {},
   "cell_type": "markdown",
   "source": "Shuffle Batch and repeat",
   "id": "9f6303454ca4de36"
  },
  {
   "metadata": {
    "ExecuteTime": {
     "end_time": "2025-04-05T02:17:11.086973Z",
     "start_time": "2025-04-05T02:17:11.079756Z"
    }
   },
   "cell_type": "code",
   "source": [
    "torch.manual_seed(0)\n",
    "data_loader = DataLoader(joint_dataset, batch_size=2, shuffle=True)\n",
    "for i, batch in enumerate(data_loader):\n",
    "    print(f'Batch {i} : X : {batch[0]} , Y : {batch[1]}')"
   ],
   "id": "b953cb6f2ed20135",
   "outputs": [
    {
     "name": "stdout",
     "output_type": "stream",
     "text": [
      "Batch 0 : X : tensor([[0.4901, 0.8964, 0.4556],\n",
      "        [0.1320, 0.3074, 0.6341]]) , Y : tensor([2, 1])\n",
      "Batch 1 : X : tensor([[0.6323, 0.3489, 0.4017],\n",
      "        [0.4963, 0.7682, 0.0885]]) , Y : tensor([3, 0])\n"
     ]
    }
   ],
   "execution_count": 47
  },
  {
   "metadata": {
    "ExecuteTime": {
     "end_time": "2025-04-05T02:18:41.987238Z",
     "start_time": "2025-04-05T02:18:41.982186Z"
    }
   },
   "cell_type": "code",
   "source": [
    "for epoch in range(2):\n",
    "    print(f'Epoch {epoch}')\n",
    "    for i, batch in enumerate(data_loader):\n",
    "        print(f' x : {batch[0]} , y : {batch[1]}')"
   ],
   "id": "57442989c57a0946",
   "outputs": [
    {
     "name": "stdout",
     "output_type": "stream",
     "text": [
      "Epoch 0\n",
      " x : tensor([[0.4963, 0.7682, 0.0885],\n",
      "        [0.1320, 0.3074, 0.6341]]) , y : tensor([0, 1])\n",
      " x : tensor([[0.6323, 0.3489, 0.4017],\n",
      "        [0.4901, 0.8964, 0.4556]]) , y : tensor([3, 2])\n",
      "Epoch 1\n",
      " x : tensor([[0.1320, 0.3074, 0.6341],\n",
      "        [0.4963, 0.7682, 0.0885]]) , y : tensor([1, 0])\n",
      " x : tensor([[0.6323, 0.3489, 0.4017],\n",
      "        [0.4901, 0.8964, 0.4556]]) , y : tensor([3, 2])\n"
     ]
    }
   ],
   "execution_count": 48
  },
  {
   "metadata": {},
   "cell_type": "code",
   "outputs": [],
   "execution_count": null,
   "source": "",
   "id": "ac26da7c465664c"
  }
 ],
 "metadata": {
  "kernelspec": {
   "display_name": "Python 3",
   "language": "python",
   "name": "python3"
  },
  "language_info": {
   "codemirror_mode": {
    "name": "ipython",
    "version": 2
   },
   "file_extension": ".py",
   "mimetype": "text/x-python",
   "name": "python",
   "nbconvert_exporter": "python",
   "pygments_lexer": "ipython2",
   "version": "2.7.6"
  }
 },
 "nbformat": 4,
 "nbformat_minor": 5
}
