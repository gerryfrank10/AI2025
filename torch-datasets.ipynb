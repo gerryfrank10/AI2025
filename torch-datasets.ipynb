{
 "cells": [
  {
   "cell_type": "code",
   "id": "initial_id",
   "metadata": {
    "collapsed": true,
    "ExecuteTime": {
     "end_time": "2025-10-12T21:34:37.286288Z",
     "start_time": "2025-10-12T21:34:37.284410Z"
    }
   },
   "source": [
    "from sklearn.datasets import make_classification\n",
    "import torch\n",
    "import numpy as np"
   ],
   "outputs": [],
   "execution_count": 2
  },
  {
   "metadata": {
    "ExecuteTime": {
     "end_time": "2025-10-12T21:35:24.657333Z",
     "start_time": "2025-10-12T21:35:24.649712Z"
    }
   },
   "cell_type": "code",
   "source": [
    "data, target = make_classification(n_samples=1000)\n",
    "data.shape, target.shape"
   ],
   "id": "640f6caa7f92284d",
   "outputs": [
    {
     "data": {
      "text/plain": [
       "((1000, 20), (1000,))"
      ]
     },
     "execution_count": 8,
     "metadata": {},
     "output_type": "execute_result"
    }
   ],
   "execution_count": 8
  },
  {
   "metadata": {
    "ExecuteTime": {
     "end_time": "2025-10-12T21:36:43.539333Z",
     "start_time": "2025-10-12T21:36:43.536005Z"
    }
   },
   "cell_type": "code",
   "source": [
    "class CustomDataset:\n",
    "    def __init__(self, data, target):\n",
    "        self.data = torch.tensor(data, dtype=torch.float32)\n",
    "        self.target = torch.tensor(target, dtype=torch.long)\n",
    "\n",
    "    def __len__(self):\n",
    "        return len(self.data)\n",
    "\n",
    "    def __getitem__(self, idx):\n",
    "        return self.data[idx], self.target[idx]"
   ],
   "id": "1f7c7735f51af39d",
   "outputs": [],
   "execution_count": 12
  },
  {
   "metadata": {
    "ExecuteTime": {
     "end_time": "2025-10-12T21:36:44.260133Z",
     "start_time": "2025-10-12T21:36:44.256928Z"
    }
   },
   "cell_type": "code",
   "source": "new_dataset = CustomDataset(data, target)",
   "id": "d7998096faad5875",
   "outputs": [],
   "execution_count": 13
  },
  {
   "metadata": {
    "ExecuteTime": {
     "end_time": "2025-10-12T21:36:44.946892Z",
     "start_time": "2025-10-12T21:36:44.942916Z"
    }
   },
   "cell_type": "code",
   "source": "new_dataset[0]",
   "id": "f836f433e887b688",
   "outputs": [
    {
     "data": {
      "text/plain": [
       "(tensor([ 1.5135, -0.6823,  0.6280, -0.6770, -1.5062, -0.8818, -0.3005,  1.1404,\n",
       "         -1.2138, -0.0937,  0.5433, -0.9092, -0.3766,  1.7004,  0.8118,  0.6367,\n",
       "          0.1367, -0.4669, -0.7224,  1.0866]),\n",
       " tensor(1))"
      ]
     },
     "execution_count": 14,
     "metadata": {},
     "output_type": "execute_result"
    }
   ],
   "execution_count": 14
  },
  {
   "metadata": {
    "ExecuteTime": {
     "end_time": "2025-10-12T21:54:13.031167Z",
     "start_time": "2025-10-12T21:54:13.027911Z"
    }
   },
   "cell_type": "code",
   "source": "len(new_dataset)",
   "id": "b097f9ac35104768",
   "outputs": [
    {
     "data": {
      "text/plain": [
       "1000"
      ]
     },
     "execution_count": 15,
     "metadata": {},
     "output_type": "execute_result"
    }
   ],
   "execution_count": 15
  },
  {
   "metadata": {
    "ExecuteTime": {
     "end_time": "2025-10-12T21:59:56.431567Z",
     "start_time": "2025-10-12T21:59:56.426955Z"
    }
   },
   "cell_type": "code",
   "source": "new_dataset[:10]",
   "id": "86e0bfcb8cee5227",
   "outputs": [
    {
     "data": {
      "text/plain": [
       "(tensor([[ 1.5135e+00, -6.8230e-01,  6.2802e-01, -6.7696e-01, -1.5062e+00,\n",
       "          -8.8176e-01, -3.0053e-01,  1.1404e+00, -1.2138e+00, -9.3729e-02,\n",
       "           5.4325e-01, -9.0915e-01, -3.7663e-01,  1.7004e+00,  8.1182e-01,\n",
       "           6.3666e-01,  1.3668e-01, -4.6693e-01, -7.2237e-01,  1.0866e+00],\n",
       "         [ 6.4330e-02, -1.0792e+00, -5.0082e-01, -3.9401e-01,  9.7434e-01,\n",
       "           1.2302e-01, -1.5764e+00, -1.1812e+00, -3.7442e-02, -2.9464e-01,\n",
       "          -3.4212e-01, -1.9149e-01, -4.4836e-01,  4.2290e-01, -1.6328e+00,\n",
       "          -5.6384e-01, -9.8755e-01,  4.7956e-01,  3.2675e-01,  2.3743e-01],\n",
       "         [ 3.9799e-02, -5.5147e-01,  1.5688e+00,  6.1692e-01,  3.2336e-01,\n",
       "          -3.2238e-01, -2.2970e-02, -2.6172e-01,  7.0123e-02, -1.5751e-01,\n",
       "          -8.7931e-01, -8.3410e-03,  1.6160e+00,  1.0864e-01, -1.3452e-01,\n",
       "           3.5275e-01,  9.9409e-01,  1.2646e+00, -6.5396e-01,  6.3880e-01],\n",
       "         [ 5.0588e-01, -7.0028e-01,  1.2029e+00,  9.9349e-01, -2.3322e-01,\n",
       "           1.0615e+00, -3.0154e-01,  1.6086e-01, -2.0284e+00, -3.5341e-02,\n",
       "          -8.0647e-01,  7.5797e-01,  1.3629e+00,  2.6874e+00, -1.4181e+00,\n",
       "          -3.9978e-01, -1.4910e-01,  5.2368e-01,  8.3223e-01,  9.6646e-01],\n",
       "         [ 3.4582e-01, -7.4884e-01,  3.0214e-01, -2.4890e-01,  1.4204e+00,\n",
       "          -1.7442e+00, -3.1950e-01,  4.7094e-01, -1.3673e+00, -1.0014e-01,\n",
       "           3.1956e-01,  8.7641e-01,  1.0435e+00,  1.9085e+00,  1.5072e+00,\n",
       "          -5.3350e-01, -9.7510e-01,  2.8017e-01, -1.0841e-01, -8.6114e-01],\n",
       "         [ 1.2260e+00, -1.3796e+00,  2.4836e-03, -3.6120e-01, -5.6866e-01,\n",
       "           3.3604e-02,  7.4940e-01,  1.8871e+00, -3.2164e-01, -3.5537e-01,\n",
       "          -2.0477e-01,  3.6825e-01,  7.7205e-01,  8.7026e-01,  2.0026e-01,\n",
       "           7.7441e-01,  1.3385e+00,  5.4724e-01, -9.6162e-01,  3.4678e-02],\n",
       "         [ 3.8550e-02, -8.1050e-01, -5.0446e-01,  1.6234e+00,  1.2822e+00,\n",
       "           5.0791e-01,  1.1193e+00,  3.9552e-01, -1.6171e+00, -9.7713e-02,\n",
       "           1.9587e+00,  4.6341e-02, -4.4422e-01,  2.2309e+00,  2.2934e-01,\n",
       "           7.7327e-01,  1.1575e-01, -6.8052e-01,  2.9435e-01, -1.3451e+00],\n",
       "         [-1.8715e+00, -1.2904e+00,  2.1205e-01,  2.7101e-01, -1.7974e+00,\n",
       "          -8.7913e-01,  1.6246e-01,  1.2194e-01,  7.7491e-01, -4.1605e-01,\n",
       "           4.7430e-01,  5.0698e-01, -1.9775e-01, -4.8128e-01,  5.5241e-01,\n",
       "          -8.8092e-01, -2.3990e+00, -3.5637e-02,  5.7248e-01, -4.8964e-01],\n",
       "         [ 1.0448e+00, -1.3627e+00,  1.5147e+00,  1.1363e-01,  9.3425e-02,\n",
       "           1.5057e+00, -1.3778e-01, -8.6005e-01,  9.3010e-01, -4.4805e-01,\n",
       "           8.8635e-01, -1.4729e+00,  4.8309e-01, -6.4282e-01,  1.6943e-01,\n",
       "          -6.8991e-01, -1.1533e-01, -5.6101e-01,  7.7311e-01, -4.2130e-01],\n",
       "         [-5.7349e-01,  9.1694e-01, -3.3266e-01, -4.6373e-01, -8.3451e-01,\n",
       "          -1.1385e+00,  6.1318e-01, -2.5767e-01, -2.7229e-01,  2.7400e-01,\n",
       "           1.6553e+00,  2.3568e-02,  7.8951e-01,  6.8355e-03, -1.2074e+00,\n",
       "           5.7979e-01, -3.0237e-01, -6.1436e-01, -8.5954e-01,  6.3301e-02]]),\n",
       " tensor([1, 1, 0, 1, 1, 1, 1, 0, 0, 1]))"
      ]
     },
     "execution_count": 16,
     "metadata": {},
     "output_type": "execute_result"
    }
   ],
   "execution_count": 16
  },
  {
   "metadata": {},
   "cell_type": "code",
   "outputs": [],
   "execution_count": null,
   "source": "",
   "id": "8f7e3714c91ff86f"
  }
 ],
 "metadata": {
  "kernelspec": {
   "display_name": "Python 3",
   "language": "python",
   "name": "python3"
  },
  "language_info": {
   "codemirror_mode": {
    "name": "ipython",
    "version": 2
   },
   "file_extension": ".py",
   "mimetype": "text/x-python",
   "name": "python",
   "nbconvert_exporter": "python",
   "pygments_lexer": "ipython2",
   "version": "2.7.6"
  }
 },
 "nbformat": 4,
 "nbformat_minor": 5
}
