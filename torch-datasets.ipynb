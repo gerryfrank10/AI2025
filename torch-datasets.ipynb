{
 "cells": [
  {
   "cell_type": "code",
   "id": "initial_id",
   "metadata": {
    "collapsed": true,
    "ExecuteTime": {
     "end_time": "2025-10-12T21:34:37.286288Z",
     "start_time": "2025-10-12T21:34:37.284410Z"
    }
   },
   "source": [
    "from sklearn.datasets import make_classification\n",
    "import torch\n",
    "import numpy as np"
   ],
   "outputs": [],
   "execution_count": 2
  },
  {
   "metadata": {
    "ExecuteTime": {
     "end_time": "2025-10-12T21:35:24.657333Z",
     "start_time": "2025-10-12T21:35:24.649712Z"
    }
   },
   "cell_type": "code",
   "source": [
    "data, target = make_classification(n_samples=1000)\n",
    "data.shape, target.shape"
   ],
   "id": "640f6caa7f92284d",
   "outputs": [
    {
     "data": {
      "text/plain": [
       "((1000, 20), (1000,))"
      ]
     },
     "execution_count": 8,
     "metadata": {},
     "output_type": "execute_result"
    }
   ],
   "execution_count": 8
  },
  {
   "metadata": {
    "ExecuteTime": {
     "end_time": "2025-10-12T21:36:43.539333Z",
     "start_time": "2025-10-12T21:36:43.536005Z"
    }
   },
   "cell_type": "code",
   "source": [
    "class CustomDataset:\n",
    "    def __init__(self, data, target):\n",
    "        self.data = torch.tensor(data, dtype=torch.float32)\n",
    "        self.target = torch.tensor(target, dtype=torch.long)\n",
    "\n",
    "    def __len__(self):\n",
    "        return len(self.data)\n",
    "\n",
    "    def __getitem__(self, idx):\n",
    "        return self.data[idx], self.target[idx]"
   ],
   "id": "1f7c7735f51af39d",
   "outputs": [],
   "execution_count": 12
  },
  {
   "metadata": {
    "ExecuteTime": {
     "end_time": "2025-10-12T21:36:44.260133Z",
     "start_time": "2025-10-12T21:36:44.256928Z"
    }
   },
   "cell_type": "code",
   "source": "new_dataset = CustomDataset(data, target)",
   "id": "d7998096faad5875",
   "outputs": [],
   "execution_count": 13
  },
  {
   "metadata": {
    "ExecuteTime": {
     "end_time": "2025-10-12T21:36:44.946892Z",
     "start_time": "2025-10-12T21:36:44.942916Z"
    }
   },
   "cell_type": "code",
   "source": "new_dataset[0]",
   "id": "f836f433e887b688",
   "outputs": [
    {
     "data": {
      "text/plain": [
       "(tensor([ 1.5135, -0.6823,  0.6280, -0.6770, -1.5062, -0.8818, -0.3005,  1.1404,\n",
       "         -1.2138, -0.0937,  0.5433, -0.9092, -0.3766,  1.7004,  0.8118,  0.6367,\n",
       "          0.1367, -0.4669, -0.7224,  1.0866]),\n",
       " tensor(1))"
      ]
     },
     "execution_count": 14,
     "metadata": {},
     "output_type": "execute_result"
    }
   ],
   "execution_count": 14
  },
  {
   "metadata": {
    "ExecuteTime": {
     "end_time": "2025-10-12T21:54:13.031167Z",
     "start_time": "2025-10-12T21:54:13.027911Z"
    }
   },
   "cell_type": "code",
   "source": "len(new_dataset)",
   "id": "b097f9ac35104768",
   "outputs": [
    {
     "data": {
      "text/plain": [
       "1000"
      ]
     },
     "execution_count": 15,
     "metadata": {},
     "output_type": "execute_result"
    }
   ],
   "execution_count": 15
  },
  {
   "metadata": {},
   "cell_type": "code",
   "outputs": [],
   "execution_count": null,
   "source": "",
   "id": "86e0bfcb8cee5227"
  }
 ],
 "metadata": {
  "kernelspec": {
   "display_name": "Python 3",
   "language": "python",
   "name": "python3"
  },
  "language_info": {
   "codemirror_mode": {
    "name": "ipython",
    "version": 2
   },
   "file_extension": ".py",
   "mimetype": "text/x-python",
   "name": "python",
   "nbconvert_exporter": "python",
   "pygments_lexer": "ipython2",
   "version": "2.7.6"
  }
 },
 "nbformat": 4,
 "nbformat_minor": 5
}
