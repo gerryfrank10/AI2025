{
 "cells": [
  {
   "metadata": {},
   "cell_type": "code",
   "outputs": [],
   "execution_count": null,
   "source": [
    "import numpy as np\n",
    "import pandas as pd\n",
    "import matplotlib.pyplot as plt\n",
    "import seaborn as sns\n",
    "import random"
   ],
   "id": "7bd2cf03a407d348"
  },
  {
   "metadata": {},
   "cell_type": "code",
   "outputs": [],
   "execution_count": null,
   "source": [
    "# Loading the dataset\n",
    "loan = pd.read_csv('../train.csv')\n",
    "print(f'There are {loan.shape[0]} rows and {loan.shape[1]} columns')\n",
    "loan.head() # getting the first the 5 rows"
   ],
   "id": "861e96840b5cc6d5"
  },
  {
   "metadata": {},
   "cell_type": "code",
   "outputs": [],
   "execution_count": null,
   "source": [
    "# Checking the information about the dataset\n",
    "loan.info()"
   ],
   "id": "bca964b297a3e291"
  },
  {
   "metadata": {},
   "cell_type": "code",
   "outputs": [],
   "execution_count": null,
   "source": [
    "# Checking missing values\n",
    "loan.isnull().sum()"
   ],
   "id": "33e745dd26e57de0"
  },
  {
   "metadata": {},
   "cell_type": "code",
   "outputs": [],
   "execution_count": null,
   "source": [
    "# General statistics of the dataset for numerical features\n",
    "loan.describe()"
   ],
   "id": "332b3d885655960d"
  },
  {
   "metadata": {},
   "cell_type": "markdown",
   "source": [
    "## EXPLORATORY DATA ANALYSIS\n",
    "\n",
    "1. The relationship between the applicant’s gender and the loan application\n",
    "2. The link between the education background and the applicant’s loan\n",
    "3. How are the career, credit and property location associated to the loan application respectively?\n",
    "4. Some overview analysis in terms of your observations and analysis\n"
   ],
   "id": "bb6be1cc8b93370d"
  },
  {
   "metadata": {},
   "cell_type": "markdown",
   "source": [
    "### 1. The relationship between the applicant’s gender and the loan application\n",
    " `For this assignment we have two columns matching the description of this exercise Loan_Status, and Gender which are both categorical features`"
   ],
   "id": "d494edd639675588"
  },
  {
   "metadata": {},
   "cell_type": "code",
   "outputs": [],
   "execution_count": null,
   "source": "loan.groupby('Gender')['Loan_Status'].value_counts()",
   "id": "550a77b7c38097c5"
  },
  {
   "metadata": {},
   "cell_type": "code",
   "outputs": [],
   "execution_count": null,
   "source": [
    "# Plot showing the relationship of Gender with corresponding Loan Status\n",
    "plt.figure(figsize = (8,8))\n",
    "sns.countplot(x=loan['Loan_Status'], hue=loan['Gender'], data=loan)\n",
    "plt.title('Gender vs Loan Status')\n",
    "plt.xlabel('Loan Status')\n",
    "plt.ylabel('Count')\n",
    "plt.show()"
   ],
   "id": "916b883eb550a5"
  },
  {
   "metadata": {},
   "cell_type": "markdown",
   "source": "### 2. The link between the education background and the applicant’s loan",
   "id": "681aae0c0efc8f27"
  },
  {
   "metadata": {},
   "cell_type": "code",
   "outputs": [],
   "execution_count": null,
   "source": "loan.groupby('Loan_Status')['Education'].value_counts()",
   "id": "991abbc9f90570f4"
  },
  {
   "metadata": {},
   "cell_type": "code",
   "outputs": [],
   "execution_count": null,
   "source": [
    "# Plot of the education and loan status\n",
    "plt.figure(figsize = (8,8))\n",
    "sns.countplot(x='Loan_Status', hue='Education', data=loan)\n",
    "plt.title('Education vs Loan Status')\n",
    "plt.xlabel('Loan Status')\n",
    "plt.ylabel('Count')\n",
    "plt.show()"
   ],
   "id": "547d407d65e70c56"
  },
  {
   "metadata": {},
   "cell_type": "markdown",
   "source": "### 3. How are the career, credit and property location associated to the loan application respectively?",
   "id": "26cfd2575b1ab0fc"
  },
  {
   "metadata": {},
   "cell_type": "code",
   "outputs": [],
   "execution_count": null,
   "source": [
    "# The respective columns are Self_Employed (object - Boolean), Credit_History (float64), Property Area (Object)\n",
    "loan.info()"
   ],
   "id": "292cf4dd5adf7a48"
  },
  {
   "metadata": {},
   "cell_type": "code",
   "outputs": [],
   "execution_count": null,
   "source": [
    "important_columns = ['Self_Employed', 'Credit_History', 'Property_Area']\n",
    "for col in important_columns:\n",
    "    sns.countplot(x='Loan_Status', hue=col, data=loan)\n",
    "    plt.title(f'Loan Status vs {col}')\n",
    "    plt.xlabel('Loan Status')\n",
    "    plt.ylabel('Count')\n",
    "    plt.show()"
   ],
   "id": "b2df03d5e848fb88"
  },
  {
   "metadata": {},
   "cell_type": "code",
   "outputs": [],
   "execution_count": null,
   "source": [
    "# Categorical Plot of\n",
    "sns.catplot(x='Loan_Status', col='Self_Employed', hue='Credit_History',\n",
    "            data=loan, kind='count')"
   ],
   "id": "18d51fb5a706a320"
  },
  {
   "metadata": {},
   "cell_type": "markdown",
   "source": "### 4. Some overview analysis in terms of your observations and analysis",
   "id": "eaaec31b922a9c18"
  },
  {
   "metadata": {},
   "cell_type": "code",
   "outputs": [],
   "execution_count": null,
   "source": [
    "from sklearn.preprocessing import LabelEncoder\n",
    "loan2 = loan.copy() # Copying the dataset\n",
    "'''\n",
    "Encoding some features to obtain more mathematical correlations.\n",
    "'''\n",
    "le = LabelEncoder()\n",
    "loan2['Loan_Status'] = le.fit_transform(loan2['Loan_Status'])s\n",
    "loan2['Education'] = le.fit_transform(loan2['Education'])\n",
    "plt.figure(figsize = (8,8))\n",
    "loan_correlation = loan2.select_dtypes(include=[np.number]).corr()\n",
    "plt.title('Correlation of Loan Status')\n",
    "sns.heatmap(loan_correlation, annot=True, cmap='YlGnBu')"
   ],
   "id": "87af1d66f4536fb9"
  },
  {
   "metadata": {},
   "cell_type": "markdown",
   "source": [
    "> 1. The loan distribution is varied on different classes such as employment and different gender roles\n",
    " 2. Also loan status is directly correlated with credit history compared to other features.\n"
   ],
   "id": "dd80150ce6c2f98c"
  }
 ],
 "metadata": {
  "kernelspec": {
   "display_name": "Python 3",
   "language": "python",
   "name": "python3"
  },
  "language_info": {
   "codemirror_mode": {
    "name": "ipython",
    "version": 2
   },
   "file_extension": ".py",
   "mimetype": "text/x-python",
   "name": "python",
   "nbconvert_exporter": "python",
   "pygments_lexer": "ipython2",
   "version": "2.7.6"
  }
 },
 "nbformat": 4,
 "nbformat_minor": 5
}
