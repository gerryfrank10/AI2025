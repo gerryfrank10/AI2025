{
 "cells": [
  {
   "metadata": {},
   "cell_type": "markdown",
   "source": "## 1. Find all such numbers which are divisible by 11 but are not a multiple of 3, between 1000 and 2000 (both included). The numbers obtained should be printed in a comma-separated sequence on a single line",
   "id": "3851f0a29c74a475"
  },
  {
   "metadata": {
    "collapsed": true,
    "ExecuteTime": {
     "end_time": "2025-02-17T15:26:44.368631Z",
     "start_time": "2025-02-17T15:26:44.366193Z"
    }
   },
   "cell_type": "code",
   "outputs": [
    {
     "data": {
      "text/plain": [
       "[1001,\n",
       " 1012,\n",
       " 1034,\n",
       " 1045,\n",
       " 1067,\n",
       " 1078,\n",
       " 1100,\n",
       " 1111,\n",
       " 1133,\n",
       " 1144,\n",
       " 1166,\n",
       " 1177,\n",
       " 1199,\n",
       " 1210,\n",
       " 1232,\n",
       " 1243,\n",
       " 1265,\n",
       " 1276,\n",
       " 1298,\n",
       " 1309,\n",
       " 1331,\n",
       " 1342,\n",
       " 1364,\n",
       " 1375,\n",
       " 1397,\n",
       " 1408,\n",
       " 1430,\n",
       " 1441,\n",
       " 1463,\n",
       " 1474,\n",
       " 1496,\n",
       " 1507,\n",
       " 1529,\n",
       " 1540,\n",
       " 1562,\n",
       " 1573,\n",
       " 1595,\n",
       " 1606,\n",
       " 1628,\n",
       " 1639,\n",
       " 1661,\n",
       " 1672,\n",
       " 1694,\n",
       " 1705,\n",
       " 1727,\n",
       " 1738,\n",
       " 1760,\n",
       " 1771,\n",
       " 1793,\n",
       " 1804,\n",
       " 1826,\n",
       " 1837,\n",
       " 1859,\n",
       " 1870,\n",
       " 1892,\n",
       " 1903,\n",
       " 1925,\n",
       " 1936,\n",
       " 1958,\n",
       " 1969,\n",
       " 1991]"
      ]
     },
     "execution_count": 1,
     "metadata": {},
     "output_type": "execute_result"
    }
   ],
   "execution_count": 1,
   "source": [
    "ans = [i for i in range(1000, 2001) if (i % 11 == 0) and (i % 3 != 0)]\n",
    "ans"
   ],
   "id": "initial_id"
  },
  {
   "metadata": {},
   "cell_type": "markdown",
   "source": "## 2. Input a sentence, “Hello World”, and calculate the number of upper-case letters and lower-case letters.",
   "id": "ddeeaeae5606bc58"
  },
  {
   "metadata": {
    "ExecuteTime": {
     "end_time": "2025-02-17T15:27:03.431160Z",
     "start_time": "2025-02-17T15:27:03.426981Z"
    }
   },
   "cell_type": "code",
   "source": [
    "word = 'Hello World'\n",
    "upper_case_letters = sum([1 for c in word if c.isupper()])\n",
    "lower_case_letters = sum([1 for c in word if c.islower()])\n",
    "upper_case_letters, lower_case_letters"
   ],
   "id": "aceac87ad014cb8e",
   "outputs": [
    {
     "data": {
      "text/plain": [
       "(2, 8)"
      ]
     },
     "execution_count": 2,
     "metadata": {},
     "output_type": "execute_result"
    }
   ],
   "execution_count": 2
  },
  {
   "metadata": {},
   "cell_type": "markdown",
   "source": "## 3. Define a function that can convert an integer into a string and call this function to print an input number in console.",
   "id": "8f7160c6a78eb34e"
  },
  {
   "metadata": {
    "ExecuteTime": {
     "end_time": "2025-02-17T15:27:17.676754Z",
     "start_time": "2025-02-17T15:27:17.672189Z"
    }
   },
   "cell_type": "code",
   "source": [
    "my_func = lambda x: str(x)\n",
    "my_func('pew')"
   ],
   "id": "e41117a3367b52e3",
   "outputs": [
    {
     "data": {
      "text/plain": [
       "'pew'"
      ]
     },
     "execution_count": 3,
     "metadata": {},
     "output_type": "execute_result"
    }
   ],
   "execution_count": 3
  },
  {
   "metadata": {},
   "cell_type": "code",
   "outputs": [],
   "execution_count": null,
   "source": "",
   "id": "599e63b90435ad26"
  }
 ],
 "metadata": {
  "kernelspec": {
   "display_name": "Python 3",
   "language": "python",
   "name": "python3"
  },
  "language_info": {
   "codemirror_mode": {
    "name": "ipython",
    "version": 2
   },
   "file_extension": ".py",
   "mimetype": "text/x-python",
   "name": "python",
   "nbconvert_exporter": "python",
   "pygments_lexer": "ipython2",
   "version": "2.7.6"
  }
 },
 "nbformat": 4,
 "nbformat_minor": 5
}
